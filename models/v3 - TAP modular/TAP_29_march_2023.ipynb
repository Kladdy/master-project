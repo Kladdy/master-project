{
 "cells": [
  {
   "attachments": {},
   "cell_type": "markdown",
   "metadata": {},
   "source": [
    "# v3 - TAP modular (mat, geom, ... in a tools file)\n",
    "- Date: 29/03/2023\n",
    "- Based on: Zsolts serpent model (in TAPreactor folder), also based on v2\n",
    "- Changelog:\n",
    "    - 29 march 2023: initial version\n"
   ]
  },
  {
   "attachments": {},
   "cell_type": "markdown",
   "metadata": {},
   "source": [
    "Questions:\n",
    "1. ...\n"
   ]
  },
  {
   "cell_type": "code",
   "execution_count": 1,
   "metadata": {},
   "outputs": [],
   "source": [
    "# Fuel properties\n",
    "FUEL_TEMP = 900 # K\n",
    "# FUEL_ENRICHMENT = 4.0 # wo% # NOT NEEDED IN THIS MODEL\n",
    "# FUEL_R = 5 # cm # NOT NEEDED IN THIS MODEL\n",
    "\n",
    "# Moderator properties\n",
    "MODERATOR_TEMP = 600 # K\n",
    "MODERATOR_R = 1.15 # cm\n",
    "\n",
    "# Cladding properties\n",
    "CLADDING_TEMP = 900 # K\n",
    "CLADDING_R = 1.25 # cm\n",
    "\n",
    "# Lattice properties\n",
    "LATTICE_ELEMENTS_INNER = 7\n",
    "LATTICE_PITCH_INNER = 3 # cm\n",
    "\n",
    "LATTICE_ELEMENTS_OUTER = 20 # Amount of elements per side\n",
    "LATTICE_PITCH_OUTER = 15 # cm\n",
    "\n",
    "# Containment properties\n",
    "CONTAINMENT_R = 150 # cm\n",
    "# CONTAINMENT_THICKNESS = 0 # cm # NOT NEEDED IN THIS MODEL\n",
    "\n",
    "# Plenum properties\n",
    "PLENUM_HEIGHT = 25 # cm\n",
    "\n",
    "# Core properties\n",
    "CORE_HEIGHT = 350 # cm\n",
    "\n",
    "# Run properties\n",
    "INACTIVE_BATCHES = 50\n",
    "PARTICLE_COUNT = 30000\n",
    "ACTIVE_BATCH_COUNT = 300\n",
    "# FAST_REACTOR = True # True if epithermal, False if thermal\n",
    "# EIGHTH = False\n",
    "# QUARTER = False\n",
    "\n",
    "DO_PLOT = True"
   ]
  },
  {
   "cell_type": "code",
   "execution_count": 4,
   "metadata": {},
   "outputs": [
    {
     "name": "stdout",
     "output_type": "stream",
     "text": [
      "THERMAL\n"
     ]
    },
    {
     "name": "stderr",
     "output_type": "stream",
     "text": [
      "/home/fne23_stjarnholm/miniconda3/envs/openmc-env/lib/python3.11/site-packages/openmc/mixin.py:70: IDWarning: Another Material instance already exists with id=1.\n",
      "  warn(msg, IDWarning)\n",
      "/home/fne23_stjarnholm/miniconda3/envs/openmc-env/lib/python3.11/site-packages/openmc/mixin.py:70: IDWarning: Another Material instance already exists with id=3.\n",
      "  warn(msg, IDWarning)\n",
      "/home/fne23_stjarnholm/miniconda3/envs/openmc-env/lib/python3.11/site-packages/openmc/mixin.py:70: IDWarning: Another Material instance already exists with id=2.\n",
      "  warn(msg, IDWarning)\n"
     ]
    },
    {
     "name": "stdout",
     "output_type": "stream",
     "text": [
      "EPITHERMAL\n"
     ]
    },
    {
     "name": "stderr",
     "output_type": "stream",
     "text": [
      "/home/fne23_stjarnholm/miniconda3/envs/openmc-env/lib/python3.11/site-packages/openmc/mixin.py:70: IDWarning: Another Material instance already exists with id=1.\n",
      "  warn(msg, IDWarning)\n",
      "/home/fne23_stjarnholm/miniconda3/envs/openmc-env/lib/python3.11/site-packages/openmc/mixin.py:70: IDWarning: Another Material instance already exists with id=3.\n",
      "  warn(msg, IDWarning)\n",
      "/home/fne23_stjarnholm/miniconda3/envs/openmc-env/lib/python3.11/site-packages/openmc/mixin.py:70: IDWarning: Another Material instance already exists with id=2.\n",
      "  warn(msg, IDWarning)\n"
     ]
    },
    {
     "name": "stdout",
     "output_type": "stream",
     "text": [
      "SEMIEPITHERMAL\n"
     ]
    },
    {
     "name": "stderr",
     "output_type": "stream",
     "text": [
      "/home/fne23_stjarnholm/miniconda3/envs/openmc-env/lib/python3.11/site-packages/openmc/mixin.py:70: IDWarning: Another Material instance already exists with id=1.\n",
      "  warn(msg, IDWarning)\n",
      "/home/fne23_stjarnholm/miniconda3/envs/openmc-env/lib/python3.11/site-packages/openmc/mixin.py:70: IDWarning: Another Material instance already exists with id=3.\n",
      "  warn(msg, IDWarning)\n",
      "/home/fne23_stjarnholm/miniconda3/envs/openmc-env/lib/python3.11/site-packages/openmc/mixin.py:70: IDWarning: Another Material instance already exists with id=2.\n",
      "  warn(msg, IDWarning)\n"
     ]
    }
   ],
   "source": [
    "import os\n",
    "import sys\n",
    "TOOLS_PATH = f\"{os.getenv('MASTER_PROJECT_ROOT_FOLDER')}/logistics\"\n",
    "sys.path.insert(0, TOOLS_PATH)\n",
    "from tools import model_tools\n",
    "import openmc\n",
    "import numpy as np\n",
    "import matplotlib.pyplot as plt\n",
    "import importlib\n",
    "importlib.reload(model_tools)\n",
    "\n",
    "for REACTOR_MODEL in [model_tools.THERMAL_REACTOR, model_tools.EPITHERMAL_REACTOR, model_tools.SEMIEPITHERMAL_REACTOR]:\n",
    "    print(REACTOR_MODEL)\n",
    "\n",
    "    # Materials\n",
    "    material_fuel, material_moderator, material_cladding = model_tools.get_materials(FUEL_TEMP, CLADDING_TEMP, MODERATOR_TEMP)\n",
    "\n",
    "    # Pin universe\n",
    "    universe_pin, universe_outer, cell_fuel, cell_moderator, cell_cladding = model_tools.get_pin_universe(CORE_HEIGHT, MODERATOR_R, CLADDING_R, material_fuel, material_moderator, material_cladding)\n",
    "\n",
    "    # Inner lattice\n",
    "    if REACTOR_MODEL == model_tools.THERMAL_REACTOR or REACTOR_MODEL == model_tools.EPITHERMAL_REACTOR:\n",
    "        universe_lattice_inner = model_tools.get_inner_lattice(LATTICE_PITCH_INNER, LATTICE_ELEMENTS_INNER, REACTOR_MODEL, universe_pin, universe_outer)\n",
    "        universe_lattice_inner_2 = None\n",
    "    elif REACTOR_MODEL == model_tools.SEMIEPITHERMAL_REACTOR:\n",
    "        universe_lattice_inner_thermal = model_tools.get_inner_lattice(LATTICE_PITCH_INNER, LATTICE_ELEMENTS_INNER, model_tools.THERMAL_REACTOR, universe_pin, universe_outer)\n",
    "        universe_lattice_inner_epithermal = model_tools.get_inner_lattice(LATTICE_PITCH_INNER, LATTICE_ELEMENTS_INNER, model_tools.EPITHERMAL_REACTOR, universe_pin, universe_outer)\n",
    "        universe_lattice_inner = universe_lattice_inner_thermal\n",
    "        universe_lattice_inner_2 = universe_lattice_inner_epithermal\n",
    "    else:\n",
    "        raise Exception(\"Invalid reactor model\")\n",
    "\n",
    "    # Outer lattice\n",
    "    geometry, cell_main, cell_plenum = model_tools.get_outer_lattice(LATTICE_PITCH_OUTER, LATTICE_ELEMENTS_OUTER, CORE_HEIGHT, \n",
    "                      PLENUM_HEIGHT, CONTAINMENT_R, REACTOR_MODEL, universe_outer, \n",
    "                      universe_lattice_inner, material_fuel,\n",
    "                      universe_lattice_inner_2=universe_lattice_inner_2)\n",
    "\n",
    "    if DO_PLOT:\n",
    "        model_tools.get_plots(REACTOR_MODEL, geometry, material_fuel, material_moderator, material_cladding)"
   ]
  },
  {
   "cell_type": "code",
   "execution_count": null,
   "metadata": {},
   "outputs": [],
   "source": []
  }
 ],
 "metadata": {
  "kernelspec": {
   "display_name": "base",
   "language": "python",
   "name": "python3"
  },
  "language_info": {
   "codemirror_mode": {
    "name": "ipython",
    "version": 3
   },
   "file_extension": ".py",
   "mimetype": "text/x-python",
   "name": "python",
   "nbconvert_exporter": "python",
   "pygments_lexer": "ipython3",
   "version": "3.11.0"
  },
  "orig_nbformat": 4,
  "vscode": {
   "interpreter": {
    "hash": "1cb9033f389f17e4033a99e410ec1477ee7bf114a4544f2b4b6a06a276807858"
   }
  }
 },
 "nbformat": 4,
 "nbformat_minor": 2
}
