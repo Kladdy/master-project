{
 "cells": [
  {
   "attachments": {},
   "cell_type": "markdown",
   "metadata": {},
   "source": [
    "# SMR model (CMSR) v1\n",
    "- Date: 23/01/2023\n",
    "- Based on: https://www.kns.org/files/pre_paper/44/20A-079-김경원.pdf"
   ]
  },
  {
   "attachments": {},
   "cell_type": "markdown",
   "metadata": {},
   "source": [
    "Questions\n",
    "1. Composition of Hastelloy N? Is it wo or ao? http://moltensalt.org/references/static/downloads/pdf/ORNL-TM-4189.pdf\n",
    "1. Temperatures of fuel, moderator, cladding?"
   ]
  },
  {
   "cell_type": "code",
   "execution_count": 1,
   "metadata": {},
   "outputs": [],
   "source": [
    "FUEL_TEMP = 900 # K\n",
    "FUEL_ENRICHMENT = 4.0 # wo%\n",
    "\n",
    "MODERATOR_TEMP = 900 # K\n",
    "\n",
    "CLADDING_TEMP = 900 # K"
   ]
  },
  {
   "cell_type": "code",
   "execution_count": 2,
   "metadata": {},
   "outputs": [],
   "source": [
    "import openmc\n",
    "import numpy as np\n",
    "import matplotlib.pyplot as plt\n",
    "import os\n",
    "\n",
    "# @@@@@@@@@@@@@@@@@@@@@@ Materials @@@@@@@@@@@@@@@@@@@@@@\n",
    "# Fuel\n",
    "material_fuel = openmc.Material(1, \"NaF-KF-UF4\", temperature=FUEL_TEMP)\n",
    "material_fuel.add_elements_from_formula('NaFKFUF4', enrichment=FUEL_ENRICHMENT)\n",
    "material_fuel.set_density('g/cm3', 4.261)\n",
    "\n",
    "# Moderator\n",
    "material_moderator = openmc.Material(2, \"NaOH\", temperature=MODERATOR_TEMP)\n",
    "material_moderator.add_elements_from_formula('NaOH')\n",
    "material_moderator.set_density('g/cm3', 1.637)\n",
    "\n",
    "# Cladding\n",
    "material_cladding = openmc.Material(3, \"HastelloyN\", temperature=CLADDING_TEMP)\n",
    "material_cladding.add_element('Ni', 0.72, 'wo')\n",
    "material_cladding.add_element('Mo', 0.16, 'wo')\n",
    "material_cladding.add_element('Cr', 0.07, 'wo')\n",
    "material_cladding.add_element('Cr', 0.05, 'wo')\n",
    "material_cladding.set_density('g/cm3', 8.86)\n",
    "\n",
    "# Create Materials list and export to XML\n",
    "mats = openmc.Materials([material_fuel, material_moderator, material_cladding])\n",
    "mats.export_to_xml()\n",
    "# @@@@@@@@@@@@@@@@@@@@@@@@@@@@@@@@@@@@@@@@@@@@@@@@@@@@@@@\n",
    "\n"
   ]
  },
  {
   "cell_type": "code",
   "execution_count": null,
   "metadata": {},
   "outputs": [],
   "source": []
  }
 ],
 "metadata": {
  "kernelspec": {
   "display_name": "openmc-env",
   "language": "python",
   "name": "python3"
  },
  "language_info": {
   "codemirror_mode": {
    "name": "ipython",
    "version": 3
   },
   "file_extension": ".py",
   "mimetype": "text/x-python",
   "name": "python",
   "nbconvert_exporter": "python",
   "pygments_lexer": "ipython3",
   "version": "3.11.0"
  },
  "orig_nbformat": 4,
  "vscode": {
   "interpreter": {
    "hash": "67e67cf57cd57ccc74f44c6b1ba81272905fa8788cce01abf0b574025132f2cb"
   }
  }
 },
 "nbformat": 4,
 "nbformat_minor": 2
}
