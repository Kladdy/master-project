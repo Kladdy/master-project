{
 "cells": [
  {
   "attachments": {},
   "cell_type": "markdown",
   "metadata": {},
   "source": [
    "# SMR model (CMSR) v1\n",
    "- Date: 23/01/2023\n",
    "- Based on: https://www.kns.org/files/pre_paper/44/20A-079-김경원.pdf"
   ]
  },
  {
   "attachments": {},
   "cell_type": "markdown",
   "metadata": {},
   "source": [
    "Questions\n",
    "1. Composition of Hastelloy N? Is it wo or ao? http://moltensalt.org/references/static/downloads/pdf/ORNL-TM-4189.pdf\n",
    "1. Temperatures of fuel, moderator, cladding?"
   ]
  },
  {
   "cell_type": "code",
   "execution_count": 1,
   "metadata": {},
   "outputs": [],
   "source": [
    "# Fuel properties\n",
    "FUEL_TEMP = 900 # K\n",
    "FUEL_ENRICHMENT = 4.0 # wo%\n",
    "FUEL_R = 5 # cm\n",
    "\n",
    "# Moderator properties\n",
    "MODERATOR_TEMP = 900 # K\n",
    "\n",
    "# Cladding properties\n",
    "CLADDING_TEMP = 900 # K\n",
    "CLADDING_R = 5 # cm\n",
    "\n",
    "# Lattice properties\n",
    "LATTICE_RINGS = 9\n",
    "LATTICE_PITCH = 12 # cm\n",
    "\n",
    "# Containment properties\n",
    "CONTAINMENT_R = 120 # cm\n",
    "CONTAINMENT_THICKNESS = 5 # cm\n",
    "\n",
    "# Core properties\n",
    "CORE_HEIGHT = 200 # cm"
   ]
  },
  {
   "cell_type": "code",
   "execution_count": 2,
   "metadata": {},
   "outputs": [],
   "source": [
    "import openmc\n",
    "import numpy as np\n",
    "import matplotlib.pyplot as plt\n",
    "import os\n",
    "\n",
    "# @@@@@@@@@@@@@@@@@@@@@@ Materials @@@@@@@@@@@@@@@@@@@@@@\n",
    "# Fuel\n",
    "material_fuel = openmc.Material(1, \"NaF-KF-UF4\", temperature=FUEL_TEMP)\n",
    "material_fuel.add_elements_from_formula('NaFKFUF4', enrichment=FUEL_ENRICHMENT)\n",
    "material_fuel.set_density('g/cm3', 4.261)\n",
    "\n",
    "# Cladding\n",
    "material_cladding = openmc.Material(2, \"HastelloyN\", temperature=CLADDING_TEMP)\n",
    "material_cladding.add_element('Ni', 0.72, 'wo')\n",
    "material_cladding.add_element('Mo', 0.16, 'wo')\n",
    "material_cladding.add_element('Cr', 0.07, 'wo')\n",
    "material_cladding.add_element('Cr', 0.05, 'wo')\n",
    "material_cladding.set_density('g/cm3', 8.86)\n",
    "\n",
    "# Moderator\n",
    "material_moderator = openmc.Material(3, \"NaOH\", temperature=MODERATOR_TEMP)\n",
    "material_moderator.add_elements_from_formula('NaOH')\n",
    "material_moderator.set_density('g/cm3', 1.637)\n",
    "\n",
    "# Create Materials list and export to XML\n",
    "mats = openmc.Materials([material_fuel, material_cladding, material_moderator])\n",
    "mats.export_to_xml()\n",
    "# @@@@@@@@@@@@@@@@@@@@@@@@@@@@@@@@@@@@@@@@@@@@@@@@@@@@@@@\n",
    "\n",
    "\n",
    "\n",
    "# @@@@@@@@@@@@@@@@@@@@@@ Geometry @@@@@@@@@@@@@@@@@@@@@@\n",
    "# Cylinders\n",
    "r_pin = openmc.ZCylinder(r=FUEL_R)\n",
    "r_cladding = openmc.ZCylinder(r=CLADDING_R)\n",
    "\n",
    "# Regions\n",
    "region_fuel = -r_pin\n",
    "region_cladding = +r_pin & -r_cladding\n",
    "region_moderator = +r_cladding\n",
    "\n",
    "# Cells\n",
    "cell_fuel = openmc.Cell(fill=material_fuel, region=region_fuel)\n",
    "cell_cladding = openmc.Cell(fill=material_cladding, region=region_cladding)\n",
    "cell_moderator = openmc.Cell(fill=material_moderator, region=region_moderator)\n",
    "\n",
    "# Universe\n",
    "universe_pin = openmc.Universe(cells=(cell_fuel, cell_cladding, cell_moderator))\n",
    "\n",
    "# Outer universe\n",
    "cell_all_moderator = openmc.Cell(fill=material_moderator)\n",
    "universe_outer = openmc.Universe(cells=(cell_all_moderator,))\n",
    "# @@@@@@@@@@@@@@@@@@@@@@@@@@@@@@@@@@@@@@@@@@@@@@@@@@@@@@\n",
    "\n",
    "\n",
    "\n",
    "# @@@@@@@@@@@@@@@@@@@@@@ Lattice @@@@@@@@@@@@@@@@@@@@@@\n",
    "lattice = openmc.HexLattice()\n",
    "lattice.center = (0., 0.)\n",
    "lattice.pitch = (LATTICE_PITCH,)\n",
    "lattice.outer = universe_outer\n",
    "\n",
    "lattice.universes = [[universe_pin]*(6*i + (i==0)*1) for i in range(LATTICE_RINGS)[::-1]]\n",
    "\n",
    "r_containment_inner = openmc.ZCylinder(r=CONTAINMENT_R)\n",
    "r_containment_outer = openmc.ZCylinder(r=CONTAINMENT_R+CONTAINMENT_THICKNESS, boundary_type='vacuum')\n",
    "\n",
    "region_containment = +r_containment_inner & -r_containment_outer\n",
    "\n",
    "cell_containment = openmc.Cell(fill=material_cladding, region=region_containment)\n",
    "cell_main = openmc.Cell(fill=lattice, region=-r_containment_inner)\n",
    "geometry = openmc.Geometry([cell_containment, cell_main])\n",
    "geometry.export_to_xml()\n",
    "# @@@@@@@@@@@@@@@@@@@@@@@@@@@@@@@@@@@@@@@@@@@@@@@@@@@@@"
   ]
  },
  {
   "cell_type": "code",
   "execution_count": 3,
   "metadata": {},
   "outputs": [],
   "source": [
    "# print(lattice.show_indices(num_rings=LATTICE_RINGS))\n",
    "# print(lattice)"
   ]
  },
  {
   "cell_type": "code",
   "execution_count": 4,
   "metadata": {},
   "outputs": [],
   "source": [
    "# plot = openmc.Plot.from_geometry(geometry)\n",
    "# plot.color_by = 'material'\n",
    "\n",
    "# plot.to_ipython_image()"
   ]
  },
  {
   "cell_type": "code",
   "execution_count": 5,
   "metadata": {},
   "outputs": [],
   "source": [
    "# outer_surface = openmc.ZCylinder(r=50, boundary_type='vacuum')\n",
    "# main_cell = openmc.Cell(fill=lattice, region=-outer_surface)\n",
    "# geometry = openmc.Geometry([main_cell])\n",
    "# geometry.export_to_xml()"
   ]
  },
  {
   "cell_type": "code",
   "execution_count": null,
   "metadata": {},
   "outputs": [],
   "source": []
  }
 ],
 "metadata": {
  "kernelspec": {
   "display_name": "openmc-env",
   "language": "python",
   "name": "python3"
  },
  "language_info": {
   "codemirror_mode": {
    "name": "ipython",
    "version": 3
   },
   "file_extension": ".py",
   "mimetype": "text/x-python",
   "name": "python",
   "nbconvert_exporter": "python",
   "pygments_lexer": "ipython3",
   "version": "3.11.0"
  },
  "orig_nbformat": 4,
  "vscode": {
   "interpreter": {
    "hash": "67e67cf57cd57ccc74f44c6b1ba81272905fa8788cce01abf0b574025132f2cb"
   }
  }
 },
 "nbformat": 4,
 "nbformat_minor": 2
}
