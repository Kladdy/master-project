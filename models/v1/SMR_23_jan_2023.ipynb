{
 "cells": [
  {
   "attachments": {},
   "cell_type": "markdown",
   "metadata": {},
   "source": [
    "# SMR model (CMSR) v1\n",
    "- Date: 23/01/2023\n",
    "- Based on: https://www.kns.org/files/pre_paper/44/20A-079-김경원.pdf"
   ]
  },
  {
   "attachments": {},
   "cell_type": "markdown",
   "metadata": {},
   "source": [
    "Questions\n",
    "1. Composition of Hastelloy N? Is it wo or ao? http://moltensalt.org/references/static/downloads/pdf/ORNL-TM-4189.pdf\n",
    "1. Temperatures of fuel, moderator, cladding?"
   ]
  },
  {
   "cell_type": "code",
   "execution_count": 6,
   "metadata": {},
   "outputs": [],
   "source": [
    "# Fuel properties\n",
    "FUEL_TEMP = 900 # K\n",
    "FUEL_ENRICHMENT = 4.0 # wo%\n",
    "FUEL_R = 5 # cm\n",
    "\n",
    "# Moderator properties\n",
    "MODERATOR_TEMP = 900 # K\n",
    "\n",
    "# Cladding properties\n",
    "CLADDING_TEMP = 900 # K\n",
    "CLADDING_R = 6 # cm\n",
    "\n",
    "# Lattice properties\n",
    "LATTICE_RINGS = 9\n",
    "LATTICE_PITCH = 13 # cm\n",
    "\n",
    "# Containment properties\n",
    "CONTAINMENT_R = 120 # cm\n",
    "CONTAINMENT_THICKNESS = 5 # cm -> total 125 cm radius, -> 250 cm diameter\n",
    "\n",
    "# Core properties\n",
    "CORE_HEIGHT = 200 # cm"
   ]
  },
  {
   "cell_type": "code",
   "execution_count": 7,
   "metadata": {},
   "outputs": [
    {
     "name": "stderr",
     "output_type": "stream",
     "text": [
      "/Users/sigge/opt/anaconda3/lib/python3.9/site-packages/openmc/mixin.py:70: IDWarning: Another Material instance already exists with id=1.\n",
      "  warn(msg, IDWarning)\n",
      "/Users/sigge/opt/anaconda3/lib/python3.9/site-packages/openmc/mixin.py:70: IDWarning: Another Material instance already exists with id=2.\n",
      "  warn(msg, IDWarning)\n",
      "/Users/sigge/opt/anaconda3/lib/python3.9/site-packages/openmc/mixin.py:70: IDWarning: Another Material instance already exists with id=3.\n",
      "  warn(msg, IDWarning)\n"
     ]
    }
   ],
   "source": [
    "import openmc\n",
    "import numpy as np\n",
    "import matplotlib.pyplot as plt\n",
    "import os\n",
    "\n",
    "# @@@@@@@@@@@@@@@@@@@@@@ Materials @@@@@@@@@@@@@@@@@@@@@@\n",
    "# Fuel\n",
    "# also set fuel color\n",
    "material_fuel = openmc.Material(1, \"NaF-KF-UF4\", temperature=FUEL_TEMP)\n",
    "material_fuel.add_elements_from_formula('NaFKFUF4', enrichment=FUEL_ENRICHMENT)\n",
    "material_fuel.set_density('g/cm3', 4.261)\n",
    "material_fuel.color = (0.8, 0.8, 0.8)\n",
    "\n",
    "# Cladding\n",
    "material_cladding = openmc.Material(2, \"HastelloyN\", temperature=CLADDING_TEMP)\n",
    "material_cladding.add_element('Ni', 0.72, 'wo')\n",
    "material_cladding.add_element('Mo', 0.16, 'wo')\n",
    "material_cladding.add_element('Cr', 0.07, 'wo')\n",
    "material_cladding.add_element('Cr', 0.05, 'wo')\n",
    "material_cladding.set_density('g/cm3', 8.86)\n",
    "\n",
    "# Moderator\n",
    "material_moderator = openmc.Material(3, \"NaOH\", temperature=MODERATOR_TEMP)\n",
    "material_moderator.add_elements_from_formula('NaOH')\n",
    "material_moderator.set_density('g/cm3', 1.637)\n",
    "\n",
    "# Create Materials list and export to XML\n",
    "mats = openmc.Materials([material_fuel, material_cladding, material_moderator])\n",
    "mats.export_to_xml()\n",
    "# @@@@@@@@@@@@@@@@@@@@@@@@@@@@@@@@@@@@@@@@@@@@@@@@@@@@@@@\n",
    "\n",
    "\n",
    "\n",
    "# @@@@@@@@@@@@@@@@@@@@@@ Geometry @@@@@@@@@@@@@@@@@@@@@@\n",
    "# Planes\n",
    "plane_bottom = openmc.ZPlane(z0=-CORE_HEIGHT/2, boundary_type='vacuum')\n",
    "plane_top = openmc.ZPlane(z0=CORE_HEIGHT/2, boundary_type='vacuum')\n",
    "\n",
    "# Cylinders\n",
    "r_pin = openmc.ZCylinder(r=FUEL_R)\n",
    "r_cladding = openmc.ZCylinder(r=CLADDING_R)\n",
    "\n",
    "# Regions\n",
    "region_height_bound = +plane_bottom & -plane_top\n",
    "region_fuel = -r_pin & region_height_bound\n",
    "region_cladding = +r_pin & -r_cladding & region_height_bound\n",
    "region_moderator = +r_cladding & region_height_bound\n",
    "\n",
    "# Cells\n",
    "cell_fuel = openmc.Cell(name=\"fuel\", fill=material_fuel, region=region_fuel)\n",
    "cell_cladding = openmc.Cell(name=\"cladding\", fill=material_cladding, region=region_cladding)\n",
    "cell_moderator = openmc.Cell(name=\"moderator\", fill=material_moderator, region=region_moderator)\n",
    "\n",
    "# Universe\n",
    "universe_pin = openmc.Universe(cells=(cell_fuel, cell_cladding, cell_moderator))\n",
    "\n",
    "# Outer universe\n",
    "cell_all_moderator = openmc.Cell(name=\"outer\", fill=material_moderator)\n",
    "universe_outer = openmc.Universe(cells=(cell_all_moderator,))\n",
    "# @@@@@@@@@@@@@@@@@@@@@@@@@@@@@@@@@@@@@@@@@@@@@@@@@@@@@@\n",
    "\n",
    "\n",
    "\n",
    "# @@@@@@@@@@@@@@@@@@@@@@ Lattice @@@@@@@@@@@@@@@@@@@@@@\n",
    "lattice = openmc.HexLattice()\n",
    "lattice.center = (0., 0.)\n",
    "lattice.pitch = (LATTICE_PITCH,)\n",
    "lattice.outer = universe_outer\n",
    "lattice.orientation = 'x' # With orientation 'x', the lattice is rotated 90 degrees\n",
    "\n",
    "universes = [[universe_pin]*(6*i + (i==0)*1) for i in range(LATTICE_RINGS)[::-1]]\n",
    "\n",
    "# Add another outer lattice ring with 4 pin cells on each side of the hexagon\n",
    "# This function picks out 4 cells on each side of the hexagon\n",
    "def condition_on_ring(i):\n",
    "    return 2 < i % LATTICE_RINGS < 7\n",
    "if LATTICE_RINGS != 9:\n",
    "    raise Exception(\"LATTICE_RINGS must be 9 - otherwise, change the condition above\")\n",
    "universes.insert(0, [universe_pin if condition_on_ring(i) else universe_outer for i in range(6*(LATTICE_RINGS))])\n",
    "\n",
    "lattice.universes = universes\n",
    "\n",
    "plane_containment_bottom = openmc.ZPlane(z0=-CORE_HEIGHT/2+CONTAINMENT_THICKNESS, boundary_type='vacuum')\n",
    "plane_containment_top = openmc.ZPlane(z0=CORE_HEIGHT/2-CONTAINMENT_THICKNESS, boundary_type='vacuum')\n",
    "r_containment_inner = openmc.ZCylinder(r=CONTAINMENT_R)\n",
    "r_containment_outer = openmc.ZCylinder(r=CONTAINMENT_R+CONTAINMENT_THICKNESS, boundary_type='vacuum')\n",
    "\n",
    "bottom_slab = +plane_bottom & -plane_containment_bottom\n",
    "top_slab = -plane_top & +plane_containment_top\n",
    "region_height_bound_inner = +plane_containment_bottom & -plane_containment_top\n",
    "region_containment = (+r_containment_inner & -r_containment_outer & region_height_bound) | (-r_containment_inner & (bottom_slab | top_slab))\n",
    "\n",
    "cell_containment = openmc.Cell(name=\"containment\", fill=material_cladding, region=region_containment)\n",
    "cell_main = openmc.Cell(fill=lattice, region=(-r_containment_inner & region_height_bound_inner))\n",
    "geometry = openmc.Geometry([cell_containment, cell_main])\n",
    "geometry.export_to_xml()\n",
    "# @@@@@@@@@@@@@@@@@@@@@@@@@@@@@@@@@@@@@@@@@@@@@@@@@@@@@"
   ]
  },
  {
   "cell_type": "code",
   "execution_count": 8,
   "metadata": {},
   "outputs": [],
   "source": [
    "# print(lattice.show_indices(num_rings=LATTICE_RINGS))\n",
    "# print(lattice)"
   ]
  },
  {
   "cell_type": "code",
   "execution_count": 12,
   "metadata": {},
   "outputs": [
    {
     "data": {
      "image/png": "[encoded data removed]",
      "text/plain": [
       "<IPython.core.display.Image object>"
      ]
     },
     "execution_count": 12,
     "metadata": {},
     "output_type": "execute_result"
    }
   ],
   "source": [
    "# @@@@@@@@@@@@@@@@@@@@@@ Plots @@@@@@@@@@@@@@@@@@@@@@\n",
    "\n",
    "PLOT_COLOR_BY = 'material'\n",
    "PLOT_PIXELS = (1000, 1000)\n",
    "PLOT_FUEL_COLOR = 'green'\n",
    "PLOT_CLADDING_COLOR = 'gray'\n",
    "PLOT_MODERATOR_COLOR = 'blue'\n",
    "\n",
    "colors = {\n",
    "    material_fuel: PLOT_FUEL_COLOR,\n",
    "    material_cladding: PLOT_CLADDING_COLOR,\n",
    "    material_moderator: PLOT_MODERATOR_COLOR\n",
    "}\n",
    "\n",
    "plotXY = openmc.Plot.from_geometry(geometry, basis='xy')\n",
    "plotXY.color_by = PLOT_COLOR_BY\n",
    "plotXY.filename = 'plotXY'\n",
    "plotXY.pixels = PLOT_PIXELS\n",
    "plotXY.colors = colors\n",
    "plotXY.to_ipython_image()\n",
    "\n",
    "plotXZ = openmc.Plot.from_geometry(geometry, basis='xz')\n",
    "plotXZ.color_by = PLOT_COLOR_BY\n",
    "plotXZ.filename = 'plotXZ'\n",
    "plotXZ.pixels = PLOT_PIXELS\n",
    "plotXZ.colors = colors\n",
    "plotXZ.to_ipython_image()\n",
    "\n",
    "\n",
    "# plots = openmc.Plots([plot])\n",
    "# plots.export_to_xml()\n",
    "# set xlabel of plot\n",
    "\n",
    "# vox_plot = openmc.Plot()\n",
    "# vox_plot.type = 'voxel'\n",
    "# vox_plot.width = (100., 100., 50.)\n",
    "# vox_plot.pixels = (400, 400, 200)\n",
    "# vox_plot.to_ipython_image()\n",
    "# @@@@@@@@@@@@@@@@@@@@@@@@@@@@@@@@@@@@@@@@@@@@@@@@@@@\n"
   ]
  },
  {
   "cell_type": "code",
   "execution_count": null,
   "metadata": {},
   "outputs": [],
   "source": []
  }
 ],
 "metadata": {
  "kernelspec": {
   "display_name": "base",
   "language": "python",
   "name": "python3"
  },
  "language_info": {
   "codemirror_mode": {
    "name": "ipython",
    "version": 3
   },
   "file_extension": ".py",
   "mimetype": "text/x-python",
   "name": "python",
   "nbconvert_exporter": "python",
   "pygments_lexer": "ipython3",
   "version": "3.9.7"
  },
  "orig_nbformat": 4,
  "vscode": {
   "interpreter": {
    "hash": "63f76679f2d7a87017a770968b0c84eaee4b7e5784b5d2dcda1f30bf18e595f3"
   }
  }
 },
 "nbformat": 4,
 "nbformat_minor": 2
}
