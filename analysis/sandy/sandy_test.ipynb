{
 "cells": [
  {
   "cell_type": "code",
   "execution_count": 1,
   "metadata": {},
   "outputs": [
    {
     "name": "stdout",
     "output_type": "stream",
     "text": [
      "0.24.2\n",
      "1.2.0\n"
     ]
    }
   ],
   "source": [
    "import pandas as pd\n",
    "print(pd.__version__)\n",
    "import scipy\n",
    "print(scipy.__version__)\n",
    "import sandy"
   ]
  },
  {
   "cell_type": "code",
   "execution_count": 2,
   "metadata": {},
   "outputs": [
    {
     "name": "stdout",
     "output_type": "stream",
     "text": [
      "environ({'ELECTRON_RUN_AS_NODE': '1', 'MallocNanoZone': '0', 'USER': 'sigge', 'COMMAND_MODE': 'unix2003', '__CFBundleIdentifier': 'com.microsoft.VSCode', 'PATH': '/Users/sigge/opt/anaconda3/envs/sandy-makeclean/bin:/usr/local/opt/llvm@9/bin:/Users/sigge/.nvm/versions/node/v19.3.0/bin:/Users/sigge/opt/anaconda3/bin:/Users/sigge/opt/anaconda3/condabin:/usr/local/bin:/System/Cryptexes/App/usr/bin:/usr/bin:/bin:/usr/sbin:/sbin:/Library/TeX/texbin:/Users/sigge/.cargo/bin:/Users/sigge/.local/bin:/usr/local/opt/llvm@9/bin:/Users/sigge/.nvm/versions/node/v19.3.0/bin:/Users/sigge/opt/anaconda3/bin:/Users/sigge/opt/anaconda3/condabin:/usr/local/bin:/System/Cryptexes/App/usr/bin:/usr/bin:/bin:/usr/sbin:/sbin:/Library/TeX/texbin:/Users/sigge/.cargo/bin:/Users/sigge/.local/bin', 'LOGNAME': 'sigge', 'SSH_AUTH_SOCK': '/private/tmp/com.apple.launchd.upshR3hbyJ/Listeners', 'HOME': '/Users/sigge', 'SHELL': '/bin/zsh', 'TMPDIR': '/var/folders/tp/lf_hr5vs56d2xbvrjjc_wzy40000gn/T/', '__CF_USER_TEXT_ENCODING': '0x1F5:0x0:0x7', 'XPC_SERVICE_NAME': 'application.com.microsoft.VSCode.79710662.79710668', 'XPC_FLAGS': '0x0', 'ORIGINAL_XDG_CURRENT_DESKTOP': 'undefined', 'VSCODE_CWD': '/', 'VSCODE_NLS_CONFIG': '{\"locale\":\"sv\",\"availableLanguages\":{},\"_languagePackSupport\":true}', 'VSCODE_CODE_CACHE_PATH': '/Users/sigge/Library/Application Support/Code/CachedData/97dec172d3256f8ca4bfb2143f3f76b503ca0534', 'VSCODE_IPC_HOOK': '/Users/sigge/Library/Application Support/Code/1.74.3-main.sock', 'VSCODE_PID': '37427', 'SHLVL': '0', 'PWD': '/', 'OLDPWD': '/', 'CONDA_EXE': '/Users/sigge/opt/anaconda3/bin/conda', '_CE_M': '', '_CE_CONDA': '', 'CONDA_PYTHON_EXE': '/Users/sigge/opt/anaconda3/bin/python', 'CONDA_SHLVL': '1', 'CONDA_PREFIX': '/Users/sigge/opt/anaconda3', 'CONDA_DEFAULT_ENV': 'base', 'CONDA_PROMPT_MODIFIER': '(base) ', 'GEOS_DIR': '/usr/local/Cellar/geos/3.5.0/', 'SYSTEM_VERSION_COMPAT': '0', 'SESSIONSECRET': '16f4f579e1f34fcd8aebf14cf61bb187', 'SEGMENTKEYDEV': 'AhQHTZK59Mo7Sd5YcdFKWiqdDzEPYei6', 'WEBENV': 'dev', 'OPENMC_CROSS_SECTIONS': '/Users/sigge/jeff-3.3-hdf5/cross_sections.xml', 'NVM_DIR': '/Users/sigge/.nvm', 'NVM_CD_FLAGS': '-q', 'NVM_BIN': '/Users/sigge/.nvm/versions/node/v19.3.0/bin', 'NVM_INC': '/Users/sigge/.nvm/versions/node/v19.3.0/include/node', 'PYTHONPATH': '/Users/sigge/sandy::/Users/sigge/sandy:', 'LDFLAGS': '-L/usr/local/opt/llvm@9/lib', 'CPPFLAGS': '-I/usr/local/opt/llvm@9/include', 'NJOY': '/Users/sigge/NJOY2016/build', '_': '/Applications/Visual Studio Code.app/Contents/MacOS/Electron', 'VSCODE_AMD_ENTRYPOINT': 'vs/workbench/api/node/extensionHostProcess', 'VSCODE_HANDLES_UNCAUGHT_ERRORS': 'true', 'APPLICATION_INSIGHTS_NO_DIAGNOSTIC_CHANNEL': 'true', 'PYDEVD_IPYTHON_COMPATIBLE_DEBUGGING': '1', 'PYTHONUNBUFFERED': '1', 'PYTHONIOENCODING': 'utf-8', 'LC_CTYPE': 'UTF-8', 'TERM': 'xterm-color', 'CLICOLOR': '1', 'PAGER': 'cat', 'GIT_PAGER': 'cat', 'MPLBACKEND': 'module://ipykernel.pylab.backend_inline'})\n"
     ]
    },
    {
     "data": {
      "text/plain": [
       "'/Users/sigge/NJOY2016/build'"
      ]
     },
     "execution_count": 2,
     "metadata": {},
     "output_type": "execute_result"
    }
   ],
   "source": [
    "\n",
    "sandy.get_njoy()"
   ]
  },
  {
   "cell_type": "code",
   "execution_count": null,
   "metadata": {},
   "outputs": [],
   "source": []
  }
 ],
 "metadata": {
  "kernelspec": {
   "display_name": "sandy-makeclean",
   "language": "python",
   "name": "python3"
  },
  "language_info": {
   "codemirror_mode": {
    "name": "ipython",
    "version": 3
   },
   "file_extension": ".py",
   "mimetype": "text/x-python",
   "name": "python",
   "nbconvert_exporter": "python",
   "pygments_lexer": "ipython3",
   "version": "3.7.12"
  },
  "orig_nbformat": 4,
  "vscode": {
   "interpreter": {
    "hash": "6a11f5f4912fbb39cebf21a7772cb587ccd6a8d22ccc8a3ef23de8441b6311bb"
   }
  }
 },
 "nbformat": 4,
 "nbformat_minor": 2
}
