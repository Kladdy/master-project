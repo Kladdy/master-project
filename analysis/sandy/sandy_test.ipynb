{
 "cells": [
  {
   "cell_type": "code",
   "execution_count": 5,
   "metadata": {},
   "outputs": [
    {
     "name": "stdout",
     "output_type": "stream",
     "text": [
      "1.5.3\n",
      "1.10.0\n",
      "0.9.0\n",
      "1.24.2\n"
     ]
    }
   ],
   "source": [
    "import pandas as pd\n",
    "print(pd.__version__)\n",
    "import scipy\n",
    "print(scipy.__version__)\n",
    "import sandy\n",
    "print(sandy.__version__)\n",
    "import numpy as np\n",
    "print(np.__version__)\n"
   ]
  },
  {
   "cell_type": "code",
   "execution_count": 4,
   "metadata": {},
   "outputs": [
    {
     "ename": "AttributeError",
     "evalue": "module 'numpy' has no attribute 'int'.\n`np.int` was a deprecated alias for the builtin `int`. To avoid this error in existing code, use `int` by itself. Doing this will not modify any behavior and is safe. When replacing `np.int`, you may wish to use e.g. `np.int64` or `np.int32` to specify the precision. If you wish to review your current use, check the release note link for additional information.\nThe aliases was originally deprecated in NumPy 1.20; for more details and guidance see the original release note at:\n    https://numpy.org/devdocs/release/1.20.0-notes.html#deprecations",
     "output_type": "error",
     "traceback": [
      "\u001b[0;31m---------------------------------------------------------------------------\u001b[0m",
      "\u001b[0;31mAttributeError\u001b[0m                            Traceback (most recent call last)",
      "Cell \u001b[0;32mIn[4], line 5\u001b[0m\n\u001b[1;32m      3\u001b[0m \u001b[39mwith\u001b[39;00m \u001b[39mopen\u001b[39m(\u001b[39m'\u001b[39m\u001b[39m/home/fne23_stjarnholm/nuclear_data/n_0925_9-F-19.dat\u001b[39m\u001b[39m'\u001b[39m, \u001b[39m'\u001b[39m\u001b[39mr\u001b[39m\u001b[39m'\u001b[39m) \u001b[39mas\u001b[39;00m f:\n\u001b[1;32m      4\u001b[0m     text_F9 \u001b[39m=\u001b[39m f\u001b[39m.\u001b[39mread()\n\u001b[0;32m----> 5\u001b[0m tape \u001b[39m=\u001b[39m sandy\u001b[39m.\u001b[39;49mEndf6\u001b[39m.\u001b[39;49mfrom_text(text_F9)\n\u001b[1;32m      7\u001b[0m tape\n",
      "File \u001b[0;32m~/sandy/sandy/formats/endf6.py:152\u001b[0m, in \u001b[0;36m_BaseFile.from_text\u001b[0;34m(cls, text)\u001b[0m\n\u001b[1;32m    135\u001b[0m \u001b[39m\u001b[39m\u001b[39m\"\"\"Create dataframe from endf6 text in string.\u001b[39;00m\n\u001b[1;32m    136\u001b[0m \u001b[39m\u001b[39;00m\n\u001b[1;32m    137\u001b[0m \u001b[39mParameters\u001b[39;00m\n\u001b[0;32m   (...)\u001b[0m\n\u001b[1;32m    145\u001b[0m \u001b[39m    Dataframe containing ENDF6 data grouped by MAT/MF/MT\u001b[39;00m\n\u001b[1;32m    146\u001b[0m \u001b[39m\"\"\"\u001b[39;00m\n\u001b[1;32m    147\u001b[0m \u001b[39mfrom\u001b[39;00m \u001b[39mio\u001b[39;00m \u001b[39mimport\u001b[39;00m StringIO\n\u001b[1;32m    148\u001b[0m tape \u001b[39m=\u001b[39m pd\u001b[39m.\u001b[39mread_fwf(\n\u001b[1;32m    149\u001b[0m         StringIO(text),\n\u001b[1;32m    150\u001b[0m         widths \u001b[39m=\u001b[39m [\u001b[39m66\u001b[39m, \u001b[39m4\u001b[39m, \u001b[39m2\u001b[39m, \u001b[39m3\u001b[39m],\n\u001b[1;32m    151\u001b[0m         names \u001b[39m=\u001b[39m [\u001b[39m\"\u001b[39m\u001b[39mTEXT\u001b[39m\u001b[39m\"\u001b[39m, \u001b[39m\"\u001b[39m\u001b[39mMAT\u001b[39m\u001b[39m\"\u001b[39m, \u001b[39m\"\u001b[39m\u001b[39mMF\u001b[39m\u001b[39m\"\u001b[39m, \u001b[39m\"\u001b[39m\u001b[39mMT\u001b[39m\u001b[39m\"\u001b[39m],\n\u001b[0;32m--> 152\u001b[0m         converters \u001b[39m=\u001b[39m {\u001b[39m\"\u001b[39m\u001b[39mMAT\u001b[39m\u001b[39m\"\u001b[39m : np\u001b[39m.\u001b[39;49mint, \u001b[39m\"\u001b[39m\u001b[39mMF\u001b[39m\u001b[39m\"\u001b[39m : np\u001b[39m.\u001b[39mint, \u001b[39m\"\u001b[39m\u001b[39mMT\u001b[39m\u001b[39m\"\u001b[39m : np\u001b[39m.\u001b[39mint},\n\u001b[1;32m    153\u001b[0m         usecols \u001b[39m=\u001b[39m \u001b[39mcls\u001b[39m\u001b[39m.\u001b[39mlabels\n\u001b[1;32m    154\u001b[0m         )\n\u001b[1;32m    155\u001b[0m tape[\u001b[39m\"\u001b[39m\u001b[39mTEXT\u001b[39m\u001b[39m\"\u001b[39m] \u001b[39m=\u001b[39m text\u001b[39m.\u001b[39msplitlines(\u001b[39mTrue\u001b[39;00m)\n\u001b[1;32m    156\u001b[0m tape \u001b[39m=\u001b[39m tape\u001b[39m.\u001b[39mloc[(tape\u001b[39m.\u001b[39mMAT\u001b[39m>\u001b[39m\u001b[39m0\u001b[39m) \u001b[39m&\u001b[39m (tape\u001b[39m.\u001b[39mMF\u001b[39m>\u001b[39m\u001b[39m0\u001b[39m) \u001b[39m&\u001b[39m (tape\u001b[39m.\u001b[39mMT\u001b[39m>\u001b[39m\u001b[39m0\u001b[39m)]\u001b[39m.\u001b[39m \\\n\u001b[1;32m    157\u001b[0m        groupby(\u001b[39mcls\u001b[39m\u001b[39m.\u001b[39mlabels)\u001b[39m.\u001b[39m \\\n\u001b[1;32m    158\u001b[0m        apply(\u001b[39mlambda\u001b[39;00m x: \u001b[39m\"\u001b[39m\u001b[39m\"\u001b[39m\u001b[39m.\u001b[39mjoin(x\u001b[39m.\u001b[39mTEXT\u001b[39m.\u001b[39mvalues))\u001b[39m.\u001b[39m \\\n\u001b[1;32m    159\u001b[0m        to_frame()\n",
      "File \u001b[0;32m~/miniconda3/envs/openmc-env/lib/python3.11/site-packages/numpy/__init__.py:305\u001b[0m, in \u001b[0;36m__getattr__\u001b[0;34m(attr)\u001b[0m\n\u001b[1;32m    300\u001b[0m     warnings\u001b[39m.\u001b[39mwarn(\n\u001b[1;32m    301\u001b[0m         \u001b[39mf\u001b[39m\u001b[39m\"\u001b[39m\u001b[39mIn the future `np.\u001b[39m\u001b[39m{\u001b[39;00mattr\u001b[39m}\u001b[39;00m\u001b[39m` will be defined as the \u001b[39m\u001b[39m\"\u001b[39m\n\u001b[1;32m    302\u001b[0m         \u001b[39m\"\u001b[39m\u001b[39mcorresponding NumPy scalar.\u001b[39m\u001b[39m\"\u001b[39m, \u001b[39mFutureWarning\u001b[39;00m, stacklevel\u001b[39m=\u001b[39m\u001b[39m2\u001b[39m)\n\u001b[1;32m    304\u001b[0m \u001b[39mif\u001b[39;00m attr \u001b[39min\u001b[39;00m __former_attrs__:\n\u001b[0;32m--> 305\u001b[0m     \u001b[39mraise\u001b[39;00m \u001b[39mAttributeError\u001b[39;00m(__former_attrs__[attr])\n\u001b[1;32m    307\u001b[0m \u001b[39m# Importing Tester requires importing all of UnitTest which is not a\u001b[39;00m\n\u001b[1;32m    308\u001b[0m \u001b[39m# cheap import Since it is mainly used in test suits, we lazy import it\u001b[39;00m\n\u001b[1;32m    309\u001b[0m \u001b[39m# here to save on the order of 10 ms of import time for most users\u001b[39;00m\n\u001b[1;32m    310\u001b[0m \u001b[39m#\u001b[39;00m\n\u001b[1;32m    311\u001b[0m \u001b[39m# The previous way Tester was imported also had a side effect of adding\u001b[39;00m\n\u001b[1;32m    312\u001b[0m \u001b[39m# the full `numpy.testing` namespace\u001b[39;00m\n\u001b[1;32m    313\u001b[0m \u001b[39mif\u001b[39;00m attr \u001b[39m==\u001b[39m \u001b[39m'\u001b[39m\u001b[39mtesting\u001b[39m\u001b[39m'\u001b[39m:\n",
      "\u001b[0;31mAttributeError\u001b[0m: module 'numpy' has no attribute 'int'.\n`np.int` was a deprecated alias for the builtin `int`. To avoid this error in existing code, use `int` by itself. Doing this will not modify any behavior and is safe. When replacing `np.int`, you may wish to use e.g. `np.int64` or `np.int32` to specify the precision. If you wish to review your current use, check the release note link for additional information.\nThe aliases was originally deprecated in NumPy 1.20; for more details and guidance see the original release note at:\n    https://numpy.org/devdocs/release/1.20.0-notes.html#deprecations"
     ]
    }
   ],
   "source": [
    "\n",
    "sandy.get_njoy()\n",
    "\n",
    "with open('/home/fne23_stjarnholm/nuclear_data/n_0925_9-F-19.dat', 'r') as f:\n",
    "    text_F9 = f.read()\n",
    "tape = sandy.Endf6.from_text(text_F9)\n",
    "\n",
    "tape"
   ]
  },
  {
   "cell_type": "code",
   "execution_count": null,
   "metadata": {},
   "outputs": [],
   "source": []
  }
 ],
 "metadata": {
  "kernelspec": {
   "display_name": "base",
   "language": "python",
   "name": "python3"
  },
  "language_info": {
   "codemirror_mode": {
    "name": "ipython",
    "version": 3
   },
   "file_extension": ".py",
   "mimetype": "text/x-python",
   "name": "python",
   "nbconvert_exporter": "python",
   "pygments_lexer": "ipython3",
   "version": "3.11.0"
  },
  "orig_nbformat": 4,
  "vscode": {
   "interpreter": {
    "hash": "1cb9033f389f17e4033a99e410ec1477ee7bf114a4544f2b4b6a06a276807858"
   }
  }
 },
 "nbformat": 4,
 "nbformat_minor": 2
}
