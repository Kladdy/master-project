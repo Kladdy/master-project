{
 "cells": [
  {
   "cell_type": "code",
   "execution_count": null,
   "metadata": {},
   "outputs": [],
   "source": []
  },
  {
   "cell_type": "code",
   "execution_count": 8,
   "metadata": {},
   "outputs": [
    {
     "name": "stdout",
     "output_type": "stream",
     "text": [
      "Importing...\n",
      "Found 8 result folders\n",
      "Loading data with 20 processes...\n"
     ]
    },
    {
     "name": "stderr",
     "output_type": "stream",
     "text": [
      "100%|██████████| 8/8 [00:00<00:00, 27.21it/s]\n"
     ]
    }
   ],
   "source": [
    "PROCESSES_COUNT = 20\n",
    "\n",
    "print(\"Importing...\")\n",
    "from multiprocessing import Pool\n",
    "\n",
    "import importlib\n",
    "import os\n",
    "import sys\n",
    "TOOLS_PATH = f\"{os.getenv('MASTER_PROJECT_ROOT_FOLDER')}/logistics\"\n",
    "sys.path.insert(0, TOOLS_PATH)\n",
    "from tools import run_tools, plot_tools, data_tools, model_tools\n",
    "import seaborn as sns\n",
    "import openmc\n",
    "import pandas as pd\n",
    "import matplotlib.pyplot as plt\n",
    "import numpy as np\n",
    "# from progressbar import progressbar\n",
    "from tqdm import tqdm\n",
    "from uncertainties import ufloat\n",
    "\n",
    "results = []\n",
    "\n",
    "result_folders = run_tools.get_all_result_dirs()\n",
    "print(f\"Found {len(result_folders)} result folders\")\n",
    "\n",
    "def handle_folder(result_folder):\n",
    "    result_path = f\"../results/{result_folder}\"\n",
    "    run_settings = run_tools.load_run_settings_json(result_path)\n",
    "\n",
    "    statepoint_number = run_settings[\"active_batch_count\"] + run_settings[\"inactive_batch_count\"]\n",
    "    sp = openmc.StatePoint(f\"{result_path}/statepoint.{statepoint_number}.h5\")\n",
    "\n",
    "    result = {\n",
    "        \"k-eff\": sp.keff.nominal_value, \n",
    "        \"k-eff-std\": sp.keff.std_dev,  \n",
    "        \"result_path\": result_path\n",
    "    }\n",
    "\n",
    "    result.update(run_settings)\n",
    "    \n",
    "    return result\n",
    "\n",
    "print(f\"Loading data with {PROCESSES_COUNT} processes...\")\n",
    "with Pool(PROCESSES_COUNT) as p:\n",
    "    # Loop over each run number and get the run settings as well as the k-effective\n",
    "    # for result_folder in tqdm(result_folders):\n",
    "    results = list(tqdm(p.imap(handle_folder, result_folders), total=len(result_folders)))"
   ]
  },
  {
   "cell_type": "code",
   "execution_count": 4,
   "metadata": {},
   "outputs": [
    {
     "ename": "Exception",
     "evalue": "No results found!",
     "output_type": "error",
     "traceback": [
      "\u001b[0;31m---------------------------------------------------------------------------\u001b[0m",
      "\u001b[0;31mException\u001b[0m                                 Traceback (most recent call last)",
      "Cell \u001b[0;32mIn[4], line 24\u001b[0m\n\u001b[1;32m     21\u001b[0m df \u001b[39m=\u001b[39m df[df[\u001b[39m\"\u001b[39m\u001b[39muse_sampled_data\u001b[39m\u001b[39m\"\u001b[39m] \u001b[39m==\u001b[39m USE_SAMPLED_DATA]\n\u001b[1;32m     23\u001b[0m \u001b[39mif\u001b[39;00m df\u001b[39m.\u001b[39mempty:\n\u001b[0;32m---> 24\u001b[0m     \u001b[39mraise\u001b[39;00m \u001b[39mException\u001b[39;00m(\u001b[39m\"\u001b[39m\u001b[39mNo results found!\u001b[39m\u001b[39m\"\u001b[39m)\n\u001b[1;32m     26\u001b[0m df \u001b[39m=\u001b[39m data_tools\u001b[39m.\u001b[39madd_reactivity_to_df(df)\n\u001b[1;32m     28\u001b[0m plt\u001b[39m.\u001b[39mfigure()\n",
      "\u001b[0;31mException\u001b[0m: No results found!"
     ]
    }
   ],
   "source": [
    "importlib.reload(plot_tools)\n",
    "importlib.reload(model_tools)\n",
    "\n",
    "# PLOT SETTINGS:\n",
    "REACTOR_MODEL = model_tools.SEMIEPITHERMAL_REACTOR\n",
    "USE_SAMPLED_DATA = True\n",
    "\n",
    "SAMPLED_STRING = \"SAMPLED\" if USE_SAMPLED_DATA else \"NOT_SAMPLED\"\n",
    "\n",
    "folder_name = f\"plots-{REACTOR_MODEL}-{SAMPLED_STRING}\"\n",
    "os.makedirs(folder_name, exist_ok=True)\n",
    "\n",
    "def get_filename(plot_type: str, value: str):\n",
    "    return f\"{folder_name}/{plot_type}_{value}-{REACTOR_MODEL}-{SAMPLED_STRING}.pdf\"\n",
    "\n",
    "# Create a dataframe from the results\n",
    "df = pd.DataFrame(results)\n",
    "\n",
    "# Filters\n",
    "df = df[df[\"reactor_model\"] == REACTOR_MODEL]\n",
    "df = df[df[\"use_sampled_data\"] == USE_SAMPLED_DATA]\n",
    "\n",
    "if df.empty:\n",
    "    raise Exception(\"No results found!\")\n",
    "\n",
    "df = data_tools.add_reactivity_to_df(df)\n",
    "\n",
    "plt.figure()\n",
    "fig, popt, pcov = plot_tools.plot_histogram_from_df(df=df, data_key=\"k-eff\", \n",
    "                                        fit_gaussian=True, decimals=5,\n",
    "                                        title=f\"Distribution of $k_{{eff}}$ for {len(df)} runs, {REACTOR_MODEL.lower()} reactor\", x_label=\"$k_{eff}$\", y_label=\"Count\",\n",
    "                                        filename=get_filename(\"heatmap\", \"distribution-k_eff\"))\n",
    "\n",
    "# plt.figure()\n",
    "# fig, popt, pcov = plot_tools.plot_histogram_from_df(df=df, data_key=\"rho-pcm\", color=\"mediumseagreen\",\n",
    "#                                         fit_gaussian=True, decimals=0,\n",
    "#                                         title=fr\"Distribution of $\\rho$ for {len(df)} runs\", x_label=r\"$\\rho$ [pcm]\", y_label=\"Count\",\n",
    "#                                         filename=get_filename(\"heatmap\", \"distribution-rho\"))"
   ]
  },
  {
   "cell_type": "code",
   "execution_count": 4,
   "metadata": {},
   "outputs": [
    {
     "name": "stdout",
     "output_type": "stream",
     "text": [
      "TMC analysis v1\n",
      "===============\n",
      "SEMIEPITHERMAL\n",
      "Sampling all MTs\n",
      "Based on 500 runs\n",
      " -- k_eff --\n",
      "k_eff: \t\t1.277\n",
      "σ_obs: \t\t1.70e-03\n",
      "σ_stat_mean: \t3.15e-04\n",
      "σ_ND: \t\t1.67e-03\n",
      "R_obs: \t\t133.3 pcm\n",
      "R_stat_mean: \t24.7 pcm\n",
      "R_ND: \t\t131.0 pcm\n",
      " -- ρ --\n",
      "ρ: \t\t21672.9 pcm\n",
      "ρ-std: \t\t102.6 pcm\n",
      "\n"
     ]
    }
   ],
   "source": [
    "importlib.reload(plot_tools)\n",
    "importlib.reload(data_tools)\n",
    "importlib.reload(model_tools)\n",
    "import pickle\n",
    "\n",
    "# Create a dataframe from the results\n",
    "df = pd.DataFrame(results)\n",
    "\n",
    "# TMC analysis\n",
    "for REACTOR_MODEL in [model_tools.SEMIEPITHERMAL_REACTOR]:\n",
    "    tmc_v1_res = data_tools.perform_TMC_v1(df, REACTOR_MODEL, print_output=True)\n",
    "\n",
    "    # Save dict to pickle file\n",
    "    with open(f\"R23-tmc_v1_res-{REACTOR_MODEL}.pkl\", \"wb\") as f:\n",
    "        pickle.dump(tmc_v1_res, f)\n",
    "\n",
    "    print(\"\")\n"
   ]
  },
  {
   "cell_type": "code",
   "execution_count": 9,
   "metadata": {},
   "outputs": [
    {
     "name": "stdout",
     "output_type": "stream",
     "text": [
      "TMC analysis v1\n",
      "===============\n",
      "THERMAL\n",
      "Sampling all MTs\n",
      "Based on 8 runs\n",
      " -- k_eff --\n",
      "k_eff: \t\t1.368\n",
      "σ_obs: \t\t1.12e-03\n",
      "σ_stat_mean: \t3.26e-04\n",
      "σ_ND: \t\t1.07e-03\n",
      "R_obs: \t\t82.0 pcm\n",
      "R_stat_mean: \t23.8 pcm\n",
      "R_ND: \t\t78.4 pcm\n",
      " -- ρ --\n",
      "ρ: \t\t26878.4 pcm\n",
      "ρ-std: \t\t57.3 pcm\n",
      "{'sigma_obs': 0.0011209193779402392, 'sigma2_obs': 1.2564602518419328e-06, 'sigma_stat_mean': 0.00032566651473807064, 'sigma2_stat_mean': 1.0605867882164198e-07, 'sigma_ND': 0.0010725677475200766, 'sigma2_ND': 1.1504015730202908e-06, 'k_eff_mean': 1.3675840680585458, 'R_obs': 0.0008196347150574242, 'R_stat_mean': 0.00023813272057226757, 'R_ND': 0.0007842792063545451, 'u_k': 1.3675840680585458+/-0.0010725677475200766, 'u_rho': 0.2687835261055481+/-0.0005734778758193098, 'N_ITERATIONS': 8, 'reactor_model': 'THERMAL'}\n",
      "No data for SEMIEPITHERMAL\n",
      "No data for EPITHERMAL\n"
     ]
    }
   ],
   "source": [
    "# TMC analysis 15 april 2023, to get table for paper\n",
    "\n",
    "importlib.reload(plot_tools)\n",
    "importlib.reload(data_tools)\n",
    "importlib.reload(model_tools)\n",
    "import pickle\n",
    "\n",
    "# Create a dataframe from the results\n",
    "df = pd.DataFrame(results)\n",
    "\n",
    "table_results = []\n",
    "\n",
    "# TMC analysis\n",
    "for REACTOR_MODEL in [model_tools.THERMAL_REACTOR, model_tools.SEMIEPITHERMAL_REACTOR, model_tools.EPITHERMAL_REACTOR]:\n",
    "    tmc_v1_res = data_tools.perform_TMC_v1(df, REACTOR_MODEL, print_output=True)\n",
    "\n",
    "    if tmc_v1_res is None:\n",
    "        continue\n",
    "\n",
    "    u_k = tmc_v1_res[\"u_k\"]\n",
    "    u_rho = tmc_v1_res[\"u_rho\"]\n",
    "\n",
    "    # print(tmc_v1_res)\n",
    "    table_results.append({\n",
    "        \"Reactor model\": REACTOR_MODEL.capitalize(),\n",
    "        \"$k_{eff}$\": float(f\"{u_k.nominal_value:.4f}\"),\n",
    "        \"$\\sigma_{k_{eff}}$ [pcm]\": float(f\"{u_k.std_dev*1e5:.1f}\"),\n",
    "        \"$\\sigma_{k_{eff}}/k_{eff}$ [%]\": float(f\"{u_k.std_dev/u_k.nominal_value*100:.2f}\"),\n",
    "        r\"$\\rho$\": float(f\"{u_rho.nominal_value:.4f}\"),\n",
    "        r\"$\\sigma_{\\rho}$ [pcm]\": float(f\"{u_rho.std_dev*1e5:.1f}\"),\n",
    "    })\n",
    "\n",
    "    print(tmc_v1_res)\n",
    "\n",
    "# df_for_table = pd.DataFrame(table_results)\n",
    "# table = df_for_table.to_latex(index=False, escape=False)\n",
    "# print(table)"
   ]
  },
  {
   "cell_type": "code",
   "execution_count": 16,
   "metadata": {},
   "outputs": [
    {
     "name": "stdout",
     "output_type": "stream",
     "text": [
      "No data for THERMAL (not sampled)\n",
      "\n",
      "No data for SEMIEPITHERMAL (not sampled)\n",
      "\n",
      "No data for EPITHERMAL (not sampled)\n",
      "\n"
     ]
    }
   ],
   "source": [
    "importlib.reload(plot_tools)\n",
    "importlib.reload(data_tools)\n",
    "import pickle\n",
    "\n",
    "# TMC analysis v1 and v3 to see OpenMC discrepancies\n",
    "\n",
    "# Create a dataframe from the results\n",
    "df = pd.DataFrame(results)\n",
    "\n",
    "for REACTOR_MODEL in [model_tools.THERMAL_REACTOR, model_tools.SEMIEPITHERMAL_REACTOR, model_tools.EPITHERMAL_REACTOR]:\n",
    "    tmc_v1_res = data_tools.perform_TMC_v1(df, REACTOR_MODEL, print_output=False)\n",
    "    tmc_v3_res = data_tools.perform_TMC_v3(df, REACTOR_MODEL, print_output=False)\n",
    "\n",
    "    print(\"\")\n"
   ]
  },
  {
   "cell_type": "code",
   "execution_count": null,
   "metadata": {},
   "outputs": [],
   "source": []
  }
 ],
 "metadata": {
  "kernelspec": {
   "display_name": "base",
   "language": "python",
   "name": "python3"
  },
  "language_info": {
   "codemirror_mode": {
    "name": "ipython",
    "version": 3
   },
   "file_extension": ".py",
   "mimetype": "text/x-python",
   "name": "python",
   "nbconvert_exporter": "python",
   "pygments_lexer": "ipython3",
   "version": "3.11.0"
  },
  "orig_nbformat": 4
 },
 "nbformat": 4,
 "nbformat_minor": 2
}
