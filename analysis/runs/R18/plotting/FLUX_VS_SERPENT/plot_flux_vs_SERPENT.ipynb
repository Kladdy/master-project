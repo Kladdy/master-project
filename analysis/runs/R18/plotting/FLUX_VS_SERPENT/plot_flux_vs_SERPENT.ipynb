{
 "cells": [
  {
   "cell_type": "code",
   "execution_count": 1,
   "metadata": {},
   "outputs": [
    {
     "name": "stdout",
     "output_type": "stream",
     "text": [
      "tapthermal.deck_det0_copy.m\n",
      "4007\n"
     ]
    },
    {
     "ename": "IndexError",
     "evalue": "list index out of range",
     "output_type": "error",
     "traceback": [
      "\u001b[0;31m---------------------------------------------------------------------------\u001b[0m",
      "\u001b[0;31mIndexError\u001b[0m                                Traceback (most recent call last)",
      "Cell \u001b[0;32mIn[1], line 41\u001b[0m\n\u001b[1;32m     38\u001b[0m \u001b[39melif\u001b[39;00m REACTOR_MODEL \u001b[39m==\u001b[39m model_tools\u001b[39m.\u001b[39mSEMIEPITHERMAL_REACTOR:\n\u001b[1;32m     39\u001b[0m     \u001b[39mcontinue\u001b[39;00m\n\u001b[0;32m---> 41\u001b[0m fluxSERPENT,_,elowSERPENT,ehighSERPENT\u001b[39m=\u001b[39mgetDetector(filename,\u001b[39m'\u001b[39;49m\u001b[39mfluxspect\u001b[39;49m\u001b[39m'\u001b[39;49m)\n\u001b[1;32m     42\u001b[0m \u001b[39mprint\u001b[39m(fluxSERPENT\u001b[39m.\u001b[39mshape)\n\u001b[1;32m     43\u001b[0m elowSERPENT \u001b[39m=\u001b[39m elowSERPENT \u001b[39m*\u001b[39m \u001b[39m1e6\u001b[39m \u001b[39m# to get in eV\u001b[39;00m\n",
      "File \u001b[0;32m~/master-project/analysis/runs/R18/plotting/FLUX_VS_SERPENT/getDetector.py:18\u001b[0m, in \u001b[0;36mgetDetector\u001b[0;34m(filename, detname, gs)\u001b[0m\n\u001b[1;32m     16\u001b[0m \u001b[39mwhile\u001b[39;00m j\u001b[39m<\u001b[39mgs\u001b[39m+\u001b[39m\u001b[39m2\u001b[39m:\n\u001b[1;32m     17\u001b[0m     x\u001b[39m=\u001b[39mdetectors[j\u001b[39m+\u001b[39mi]\u001b[39m.\u001b[39mstrip()\u001b[39m.\u001b[39msplit()\n\u001b[0;32m---> 18\u001b[0m     flux\u001b[39m.\u001b[39mappend(\u001b[39mfloat\u001b[39m(x[\u001b[39m-\u001b[39;49m\u001b[39m2\u001b[39;49m]))\n\u001b[1;32m     19\u001b[0m     fluxerr\u001b[39m.\u001b[39mappend(\u001b[39mfloat\u001b[39m(x[\u001b[39m-\u001b[39m\u001b[39m1\u001b[39m]))\n\u001b[1;32m     20\u001b[0m     j\u001b[39m=\u001b[39mj\u001b[39m+\u001b[39m\u001b[39m1\u001b[39m\n",
      "\u001b[0;31mIndexError\u001b[0m: list index out of range"
     ]
    },
    {
     "data": {
      "text/plain": [
       "<Figure size 640x480 with 0 Axes>"
      ]
     },
     "metadata": {},
     "output_type": "display_data"
    }
   ],
   "source": [
    "import openmc\n",
    "import matplotlib.pyplot as plt\n",
    "import os\n",
    "import sys\n",
    "TOOLS_PATH = f\"{os.getenv('MASTER_PROJECT_ROOT_FOLDER')}/logistics\"\n",
    "sys.path.insert(0, TOOLS_PATH)\n",
    "from tools import run_tools, nuclear_data_tools, model_tools\n",
    "from getDetector import getDetector\n",
    "import numpy as np\n",
    "\n",
    "results_idx = {\n",
    "    model_tools.THERMAL_REACTOR: 1,\n",
    "    model_tools.SEMIEPITHERMAL_REACTOR: 3,\n",
    "    model_tools.EPITHERMAL_REACTOR: 2,\n",
    "}\n",
    "\n",
    "# The \"tapfast.deck_det0 copy.m\" and \"tapthermal.deck_det0 copy.m\" files when using the same energy spectrum as the OpenMC model\n",
    "\n",
    "# filename='tapfast.deck_det0 copy.m'\n",
    "# fluxFast,_,_,ehigh=getDetector(filename,'fluxspect')\n",
    "\n",
    "# filename='tapthermal.deck_det0 copy.m'\n",
    "# fluxThermal,_,_,_=getDetector(filename,'fluxspect')\n",
    "\n",
    "colors = [\"tab:blue\", \"tab:orange\", \"tab:green\"]\n",
    "\n",
    "plt.figure(1)\n",
    "\n",
    "folder_filename = lambda run_id: f\"../../results/RUNDATA_R18_{run_id}\"\n",
    "\n",
    "for REACTOR_MODEL, i in results_idx.items():\n",
    "    # The \"tapfast.deck_det0 copy.m\" and \"tapthermal.deck_det0 copy.m\" files when using the same energy spectrum as the OpenMC model\n",
    "\n",
    "    if REACTOR_MODEL == model_tools.THERMAL_REACTOR:\n",
    "        filename='tapthermal.deck_det0_copy.m'\n",
    "    elif REACTOR_MODEL == model_tools.EPITHERMAL_REACTOR:\n",
    "        filename='tapfast.deck_det0_copy.m'\n",
    "    elif REACTOR_MODEL == model_tools.SEMIEPITHERMAL_REACTOR:\n",
    "        continue\n",
    "\n",
    "    fluxSERPENT,_,elowSERPENT,ehighSERPENT=getDetector(filename,'fluxspect', gs=1999)\n",
    "    print(fluxSERPENT.shape)\n",
    "    elowSERPENT = elowSERPENT * 1e6 # to get in eV\n",
    "    ehighSERPENT = ehighSERPENT * 1e6 # to get in eV\n",
    "    eSERPENT = (elowSERPENT+ehighSERPENT)/2\n",
    "\n",
    "    run_settings = run_tools.load_run_settings_json(folder_filename(i))\n",
    "    color = colors[i-1]\n",
    "\n",
    "    # Make sure reactor_model is correct\n",
    "    assert run_settings[\"reactor_model\"] == REACTOR_MODEL\n",
    "\n",
    "    statepoint_number = run_settings[\"active_batch_count\"] + run_settings[\"inactive_batch_count\"]\n",
    "    sp = openmc.StatePoint(f\"../../results/RUNDATA_R18_{i}/statepoint.{statepoint_number}.h5\")\n",
    "\n",
    "    # print(sp.tallies)\n",
    "\n",
    "    tallydf1=sp.tallies[3].get_pandas_dataframe()\n",
    "    # print(tallydf1.head())\n",
    "\n",
    "    tallydf1flux=tallydf1[tallydf1['score']=='flux']\n",
    "    # print(tallydf1flux.head())\n",
    "\n",
    "    energy=(tallydf1flux['energy low [eV]']+tallydf1flux['energy high [eV]'])/2\n",
    "    \n",
    "    # Interpolate the flux from the SERPENT spectrum to the OpenMC spectrum\n",
    "    # fluxSERPENT_interp = np.interp(energy, eSERPENT, fluxSERPENT)\n",
    "\n",
    "    plt.figure(1)\n",
    "    # factor = 21205750.411731105\n",
    "    # plt.loglog(energy,tallydf1flux['mean'], label=REACTOR_MODEL.capitalize(), color=color)\n",
    "    # plt.loglog(energy,fluxSERPENT_interp, label=REACTOR_MODEL.capitalize()+\" SERPENT\", color=color, ls='--')\n",
    "\n",
    "    # quotient = tallydf1flux['mean']/fluxSERPENT_interp\n",
    "    quotient = tallydf1flux['mean']/fluxSERPENT\n",
    "    plt.semilogx(energy,quotient*1e12*1.47*2.4, label=REACTOR_MODEL.capitalize(), color=color)\n",
    "    \n",
    "\n",
    "    \n",
    "\n",
    "plt.figure(1)\n",
    "plt.xlabel('$E_n$ [eV]')\n",
    "plt.ylabel('OpenMC flux / SERPENT flux [a.u.]')\n",
    "plt.legend()\n",
    "plt.xlim(1e-2, 1e7)\n",
    "plt.ylim(0, 1.75)\n",
    "plt.grid()\n",
    "plt.tight_layout()\n",
    "plt.savefig(\"flux_quotient_openmc_vs_serpent.pdf\")\n",
    "\n",
    "    "
   ]
  },
  {
   "cell_type": "code",
   "execution_count": null,
   "metadata": {},
   "outputs": [],
   "source": []
  }
 ],
 "metadata": {
  "kernelspec": {
   "display_name": "base",
   "language": "python",
   "name": "python3"
  },
  "language_info": {
   "codemirror_mode": {
    "name": "ipython",
    "version": 3
   },
   "file_extension": ".py",
   "mimetype": "text/x-python",
   "name": "python",
   "nbconvert_exporter": "python",
   "pygments_lexer": "ipython3",
   "version": "3.11.0"
  },
  "orig_nbformat": 4,
  "vscode": {
   "interpreter": {
    "hash": "1cb9033f389f17e4033a99e410ec1477ee7bf114a4544f2b4b6a06a276807858"
   }
  }
 },
 "nbformat": 4,
 "nbformat_minor": 2
}
