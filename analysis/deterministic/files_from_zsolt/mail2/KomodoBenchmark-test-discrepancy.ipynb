{
 "cells": [
  {
   "cell_type": "markdown",
   "metadata": {},
   "source": [
    "# READ SERPENT"
   ]
  },
  {
   "cell_type": "code",
   "execution_count": 1,
   "metadata": {},
   "outputs": [],
   "source": [
    "import numpy as np\n",
    "import matplotlib.pyplot as plt\n",
    "import random\n",
    "import matplotlib\n",
    "\n",
    "\n",
    "def getHeatMapMesh(filename,detname,N=20,col=10):\n",
    "    \"\"\"Function to extract Serpent2 (heat) detector\n",
    "    \n",
    "    Parameters\n",
    "    filename : str\n",
    "        File name/path\n",
    "    detname : str\n",
    "        Name of the detector in the file\n",
    "    N : int\n",
    "        It is expected that the detector is in an NxN lattice. Otherwise N=1\n",
    "    mt : int\n",
    "        1: total heat, 2: fission heat 3: neutron heat 4: gamma heat. \n",
    "    Nax : int\n",
    "        Number of axial nodes\n",
    "    Nrad : int\n",
    "        Number of radial bins\n",
    "    col : int\n",
    "        Column index to be read\n",
    "        \n",
    "    Note\n",
    "    ----\n",
    "    This is not a general parser, it assumes that the axial end radial mesh is set up in a certain way. \n",
    "    With little tweaking it can be made more generic.\n",
    "    \"\"\"\n",
    "    \n",
    "    lines=open(filename,'r').readlines()\n",
    "    heat=[]\n",
    "    for i,line in enumerate(lines):\n",
    "        if 'DET%s = ['%detname in line:\n",
    "            for j in range(1,N**2+1):\n",
    "                x=lines[i+j].strip().split()\n",
    "                if col==10 or col==11:\n",
    "                    heat.append(float(x[col]))\n",
    "                else:\n",
    "                    heat.append(int(x[col]))\n",
    "    return np.array(heat)    "
   ]
  },
  {
   "cell_type": "code",
   "execution_count": 2,
   "metadata": {},
   "outputs": [],
   "source": [
    "path='/run/user/1000/gvfs/sftp:host=galactica.physics.uu.se/home/elter/TAPreactor/KOMODObenchmark/'\n",
    "filename=path+'tapthermalbenchmark.deck_det0.m'\n",
    "\n",
    "heat=getHeatMapMesh(filename,'fissheat',24,10)\n",
    "newheat=np.reshape(heat.copy(),(24,24))"
   ]
  },
  {
   "cell_type": "code",
   "execution_count": 3,
   "metadata": {},
   "outputs": [
    {
     "data": {
      "text/plain": [
       "<matplotlib.colorbar.Colorbar at 0x15367963e668>"
      ]
     },
     "execution_count": 3,
     "metadata": {},
     "output_type": "execute_result"
    },
    {
     "data": {
      "image/png": "[encoded data removed]",
      "text/plain": [
       "<Figure size 432x288 with 2 Axes>"
      ]
     },
     "metadata": {
      "needs_background": "light"
     },
     "output_type": "display_data"
    }
   ],
   "source": [
    "plt.imshow(newheat)\n",
    "plt.colorbar()"
   ]
  },
  {
   "cell_type": "code",
   "execution_count": 4,
   "metadata": {},
   "outputs": [
    {
     "data": {
      "text/plain": [
       "397595517.20000005"
      ]
     },
     "execution_count": 4,
     "metadata": {},
     "output_type": "execute_result"
    }
   ],
   "source": [
    "np.sum(newheat) #plena is not included!"
   ]
  },
  {
   "cell_type": "code",
   "execution_count": 5,
   "metadata": {},
   "outputs": [],
   "source": [
    "powerpeaking=newheat/np.mean(newheat[np.nonzero(newheat)])"
   ]
  },
  {
   "cell_type": "code",
   "execution_count": 6,
   "metadata": {},
   "outputs": [
    {
     "data": {
      "image/png": "[encoded data removed]",
      "text/plain": [
       "<Figure size 432x288 with 2 Axes>"
      ]
     },
     "metadata": {
      "needs_background": "light"
     },
     "output_type": "display_data"
    }
   ],
   "source": [
    "plt.figure()\n",
    "plt.imshow(powerpeaking)\n",
    "plt.colorbar()\n",
    "plt.show()"
   ]
  },
  {
   "cell_type": "code",
   "execution_count": 7,
   "metadata": {},
   "outputs": [
    {
     "data": {
      "text/plain": [
       "2.4973845957637466"
      ]
     },
     "execution_count": 7,
     "metadata": {},
     "output_type": "execute_result"
    }
   ],
   "source": [
    "np.max(powerpeaking)"
   ]
  },
  {
   "cell_type": "markdown",
   "metadata": {},
   "source": [
    "# READ KOMODO\n",
    "\n"
   ]
  },
  {
   "cell_type": "code",
   "execution_count": 2,
   "metadata": {},
   "outputs": [],
   "source": [
    "def getKomodoMap(filename,before,skip,N=10,printing=False):\n",
    "    \"\"\"\n",
    "    Parameters\n",
    "    ----------\n",
    "    filename : str\n",
    "        name of file\n",
    "    before : str\n",
    "        string of unique (ie. only appears once in output) location to find the right place to extract\n",
    "    skip : int\n",
    "        how many lines to skip after \"before\" string till extracting\n",
    "    N : int\n",
    "        size of the lattice\n",
    "    \"\"\"\n",
    "    lines=open(filename,'r').readlines()\n",
    "    heatmap=np.zeros((N,N))\n",
    "    for i,line in enumerate(lines):\n",
    "        x=line.strip()\n",
    "        if before == x:\n",
    "            for j in range(skip+1,N+skip+1):\n",
    "                x=lines[i+j].strip().split()\n",
    "                if printing:\n",
    "                    print(x)\n",
    "                for k in range(len(x)-1):\n",
    "                    heatmap[j-skip-1,k]=float(x[k+1])\n",
    "    return heatmap \n",
    "    "
   ]
  },
  {
   "cell_type": "code",
   "execution_count": 9,
   "metadata": {},
   "outputs": [
    {
     "name": "stdout",
     "output_type": "stream",
     "text": [
      "['10', '2.468', '2.397', '2.257', '2.054', '1.798', '1.499', '1.169', '0.821', '0.444', '0.051']\n",
      "['9', '2.397', '2.326', '2.188', '1.989', '1.737', '1.443', '1.120', '0.781', '0.419', '0.048']\n",
      "['8', '2.257', '2.188', '2.054', '1.861', '1.616', '1.332', '1.021', '0.698', '0.364', '0.041']\n",
      "['7', '2.054', '1.989', '1.861', '1.676', '1.443', '1.171', '0.875', '0.567', '0.254', '0.024']\n",
      "['6', '1.798', '1.737', '1.616', '1.443', '1.223', '0.968', '0.684', '0.365', '0.060']\n",
      "['5', '1.499', '1.443', '1.332', '1.171', '0.968', '0.733', '0.454', '0.088', '0.013']\n",
      "['4', '1.169', '1.120', '1.021', '0.875', '0.684', '0.454', '0.244', '0.028']\n",
      "['3', '0.821', '0.781', '0.698', '0.567', '0.365', '0.088', '0.028']\n",
      "['2', '0.444', '0.419', '0.364', '0.254', '0.060', '0.013']\n",
      "['1', '0.051', '0.048', '0.041', '0.024']\n"
     ]
    },
    {
     "data": {
      "text/plain": [
       "array([[2.468, 2.397, 2.257, 2.054, 1.798, 1.499, 1.169, 0.821, 0.444,\n",
       "        0.051],\n",
       "       [2.397, 2.326, 2.188, 1.989, 1.737, 1.443, 1.12 , 0.781, 0.419,\n",
       "        0.048],\n",
       "       [2.257, 2.188, 2.054, 1.861, 1.616, 1.332, 1.021, 0.698, 0.364,\n",
       "        0.041],\n",
       "       [2.054, 1.989, 1.861, 1.676, 1.443, 1.171, 0.875, 0.567, 0.254,\n",
       "        0.024],\n",
       "       [1.798, 1.737, 1.616, 1.443, 1.223, 0.968, 0.684, 0.365, 0.06 ,\n",
       "        0.   ],\n",
       "       [1.499, 1.443, 1.332, 1.171, 0.968, 0.733, 0.454, 0.088, 0.013,\n",
       "        0.   ],\n",
       "       [1.169, 1.12 , 1.021, 0.875, 0.684, 0.454, 0.244, 0.028, 0.   ,\n",
       "        0.   ],\n",
       "       [0.821, 0.781, 0.698, 0.567, 0.365, 0.088, 0.028, 0.   , 0.   ,\n",
       "        0.   ],\n",
       "       [0.444, 0.419, 0.364, 0.254, 0.06 , 0.013, 0.   , 0.   , 0.   ,\n",
       "        0.   ],\n",
       "       [0.051, 0.048, 0.041, 0.024, 0.   , 0.   , 0.   , 0.   , 0.   ,\n",
       "        0.   ]])"
      ]
     },
     "execution_count": 9,
     "metadata": {},
     "output_type": "execute_result"
    }
   ],
   "source": [
    "path='/home/zsolt/Documents/ReactorPhysics/KOMODO/smpl/static/'\n",
    "filename='TAPthermalTest.out'\n",
    "before='Radial Power Distribution'\n",
    "\n",
    "komodomap=getKomodoMap(path+filename,before,skip=2,printing=True)\n",
    "komodomap"
   ]
  },
  {
   "cell_type": "markdown",
   "metadata": {},
   "source": [
    "Now read the radial distributions at various axial heights, just to see that the radial map in the main output is infact the sum of all the radial maps."
   ]
  },
  {
   "cell_type": "code",
   "execution_count": 5,
   "metadata": {},
   "outputs": [
    {
     "name": "stdout",
     "output_type": "stream",
     "text": [
      "z =   1\n",
      "z =   2\n",
      "z =   3\n",
      "z =   4\n",
      "z =   5\n",
      "z =   6\n",
      "z =   7\n",
      "z =   8\n",
      "z =   9\n",
      "z =  10\n",
      "z =  11\n",
      "z =  12\n",
      "z =  13\n",
      "z =  14\n",
      "z =  15\n",
      "z =  16\n",
      "z =  17\n",
      "z =  18\n",
      "z =  19\n",
      "z =  20\n",
      "z =  21\n",
      "z =  22\n"
     ]
    },
    {
     "data": {
      "text/plain": [
       "array([[3.83 , 3.714, 3.502, 3.19 , 2.79 , 2.322, 1.814, 1.276, 0.694,\n",
       "        0.08 ],\n",
       "       [3.714, 3.61 , 3.394, 3.082, 2.694, 2.238, 1.738, 1.21 , 0.648,\n",
       "        0.074],\n",
       "       [3.502, 3.394, 3.19 , 2.886, 2.51 , 2.068, 1.584, 1.082, 0.564,\n",
       "        0.064],\n",
       "       [3.19 , 3.082, 2.886, 2.6  , 2.238, 1.818, 1.36 , 0.88 , 0.396,\n",
       "        0.038],\n",
       "       [2.79 , 2.694, 2.51 , 2.238, 1.898, 1.506, 1.062, 0.566, 0.09 ,\n",
       "        0.   ],\n",
       "       [2.322, 2.238, 2.068, 1.818, 1.506, 1.138, 0.708, 0.138, 0.018,\n",
       "        0.   ],\n",
       "       [1.814, 1.738, 1.584, 1.36 , 1.062, 0.708, 0.378, 0.042, 0.   ,\n",
       "        0.   ],\n",
       "       [1.276, 1.21 , 1.082, 0.88 , 0.566, 0.138, 0.042, 0.   , 0.   ,\n",
       "        0.   ],\n",
       "       [0.694, 0.648, 0.564, 0.396, 0.09 , 0.018, 0.   , 0.   , 0.   ,\n",
       "        0.   ],\n",
       "       [0.08 , 0.074, 0.064, 0.038, 0.   , 0.   , 0.   , 0.   , 0.   ,\n",
       "        0.   ]])"
      ]
     },
     "execution_count": 5,
     "metadata": {},
     "output_type": "execute_result"
    }
   ],
   "source": [
    "# path='/home/zsolt/Documents/ReactorPhysics/KOMODO/smpl/static/'\n",
    "path='./'\n",
    "filename='TAPthermalTest_3d_power.out'\n",
    "\n",
    "komodomap=np.zeros((10,10))\n",
    "komodomaps=[]\n",
    "for i in range(1,23):\n",
    "    # before='z =  %d'%i\n",
    "    before=f'z =  {i: >2}'\n",
    "    print(before)\n",
    "    komodomapI=getKomodoMap(path+filename,before,skip=1)\n",
    "    komodomaps.append(komodomapI)\n",
    "    komodomap=komodomap+komodomapI\n",
    "komodomap"
   ]
  },
  {
   "cell_type": "code",
   "execution_count": 11,
   "metadata": {},
   "outputs": [
    {
     "data": {
      "text/plain": [
       "<matplotlib.image.AxesImage at 0x15365cede3c8>"
      ]
     },
     "execution_count": 11,
     "metadata": {},
     "output_type": "execute_result"
    },
    {
     "data": {
      "image/png": "[encoded data removed]",
      "text/plain": [
       "<Figure size 432x288 with 1 Axes>"
      ]
     },
     "metadata": {
      "needs_background": "light"
     },
     "output_type": "display_data"
    }
   ],
   "source": [
    "plt.imshow(komodomap)"
   ]
  },
  {
   "cell_type": "markdown",
   "metadata": {},
   "source": [
    "# Compare K-EFF\n",
    "\n",
    "77 pcm is worse than it first looked. Now the geometries should be perfectly comparable. Might be that discontinouty factors should be applied between fuel and moderated fuel assemblies."
   ]
  },
  {
   "cell_type": "code",
   "execution_count": 12,
   "metadata": {},
   "outputs": [
    {
     "data": {
      "text/plain": [
       "77.81565968103314"
      ]
     },
     "execution_count": 12,
     "metadata": {},
     "output_type": "execute_result"
    }
   ],
   "source": [
    "kserp=1.36531\n",
    "kkomo=1.363861\n",
    "\n",
    "def reactivity(k):\n",
    "    return 1e5*(k-1)/k\n",
    "\n",
    "reactivity(kserp)-reactivity(kkomo)"
   ]
  },
  {
   "cell_type": "markdown",
   "metadata": {},
   "source": [
    "# Compare power peaking\n",
    "\n",
    "Note, in serpent, for better accuracy one could take the mean of the four quadrants, now Im just looking at the lower right. And it is already pretty fascinating.\n",
    "\n",
    "For a later better benchmark, do the axial divisions in the tally, so for every axial height I can also check whether the power is comparable."
   ]
  },
  {
   "cell_type": "code",
   "execution_count": 13,
   "metadata": {},
   "outputs": [
    {
     "data": {
      "text/plain": [
       "array([[2.47775329, 2.41283887, 2.28594096, 2.0839915 , 1.8221461 ,\n",
       "        1.50754416, 1.17319401, 0.82281567, 0.445538  , 0.07444441],\n",
       "       [2.38400565, 2.33433034, 2.2081088 , 1.99943743, 1.75334884,\n",
       "        1.44956876, 1.11931856, 0.77819807, 0.41024006, 0.06868503],\n",
       "       [2.26578359, 2.18994713, 2.06391764, 1.86956685, 1.62741121,\n",
       "        1.32450789, 1.00600641, 0.67910881, 0.35386038, 0.05670734],\n",
       "       [2.04703354, 1.99180535, 1.85655725, 1.66325024, 1.43647565,\n",
       "        1.15577551, 0.86001996, 0.55314863, 0.2515229 , 0.03674203],\n",
       "       [1.79719572, 1.73076992, 1.61176294, 1.44257129, 1.21400976,\n",
       "        0.95899482, 0.68396529, 0.35545777, 0.08955751, 0.        ],\n",
       "       [1.49975343, 1.4451014 , 1.33598106, 1.16715682, 0.95733313,\n",
       "        0.7220238 , 0.44674711, 0.12959168, 0.01731697, 0.        ],\n",
       "       [1.15722844, 1.11183678, 1.01570099, 0.8659987 , 0.66799971,\n",
       "        0.44269643, 0.24188928, 0.04225983, 0.        , 0.        ],\n",
       "       [0.80514081, 0.76470499, 0.69139195, 0.56331249, 0.35304957,\n",
       "        0.13028057, 0.04323823, 0.        , 0.        , 0.        ],\n",
       "       [0.43590605, 0.41785043, 0.361019  , 0.25087158, 0.09069481,\n",
       "        0.01748431, 0.        , 0.        , 0.        , 0.        ],\n",
       "       [0.07290931, 0.07002273, 0.0592438 , 0.03699295, 0.        ,\n",
       "        0.        , 0.        , 0.        , 0.        , 0.        ]])"
      ]
     },
     "execution_count": 13,
     "metadata": {},
     "output_type": "execute_result"
    }
   ],
   "source": [
    "#i have a 24x24 lattice, but only 20x20 is effectively needed, the larger lattice was used only \n",
    "#to fit it in a cylinder... thinking of it, i could have filled the lattice in a box:)\n",
    "#nevermind, 12:-2,12:-2 should be the lower left corner\n",
    "#for the mean i take the nonzero values not to bias the average power per node.\n",
    "newheat[12:-2,12:-2]/np.mean(newheat[np.nonzero(newheat)])"
   ]
  },
  {
   "cell_type": "code",
   "execution_count": 14,
   "metadata": {},
   "outputs": [
    {
     "data": {
      "text/plain": [
       "array([[2.461, 2.387, 2.25 , 2.05 , 1.793, 1.492, 1.166, 0.82 , 0.446,\n",
       "        0.052],\n",
       "       [2.387, 2.32 , 2.18 , 1.981, 1.731, 1.438, 1.117, 0.777, 0.417,\n",
       "        0.047],\n",
       "       [2.25 , 2.18 , 2.05 , 1.855, 1.613, 1.329, 1.018, 0.695, 0.363,\n",
       "        0.041],\n",
       "       [2.05 , 1.981, 1.855, 1.67 , 1.438, 1.168, 0.874, 0.565, 0.254,\n",
       "        0.025],\n",
       "       [1.793, 1.731, 1.613, 1.438, 1.22 , 0.967, 0.682, 0.364, 0.058,\n",
       "        0.   ],\n",
       "       [1.492, 1.438, 1.329, 1.168, 0.967, 0.731, 0.455, 0.089, 0.011,\n",
       "        0.   ],\n",
       "       [1.166, 1.117, 1.018, 0.874, 0.682, 0.455, 0.243, 0.027, 0.   ,\n",
       "        0.   ],\n",
       "       [0.82 , 0.777, 0.695, 0.565, 0.364, 0.089, 0.027, 0.   , 0.   ,\n",
       "        0.   ],\n",
       "       [0.446, 0.417, 0.363, 0.254, 0.058, 0.011, 0.   , 0.   , 0.   ,\n",
       "        0.   ],\n",
       "       [0.052, 0.047, 0.041, 0.025, 0.   , 0.   , 0.   , 0.   , 0.   ,\n",
       "        0.   ]])"
      ]
     },
     "execution_count": 14,
     "metadata": {},
     "output_type": "execute_result"
    }
   ],
   "source": [
    "komodomap"
   ]
  },
  {
   "cell_type": "code",
   "execution_count": 15,
   "metadata": {},
   "outputs": [
    {
     "data": {
      "text/plain": [
       "array([[ 0.01675329,  0.02583887,  0.03594096,  0.0339915 ,  0.0291461 ,\n",
       "         0.01554416,  0.00719401,  0.00281567, -0.000462  ,  0.02244441],\n",
       "       [-0.00299435,  0.01433034,  0.0281088 ,  0.01843743,  0.02234884,\n",
       "         0.01156876,  0.00231856,  0.00119807, -0.00675994,  0.02168503],\n",
       "       [ 0.01578359,  0.00994713,  0.01391764,  0.01456685,  0.01441121,\n",
       "        -0.00449211, -0.01199359, -0.01589119, -0.00913962,  0.01570734],\n",
       "       [-0.00296646,  0.01080535,  0.00155725, -0.00674976, -0.00152435,\n",
       "        -0.01222449, -0.01398004, -0.01185137, -0.0024771 ,  0.01174203],\n",
       "       [ 0.00419572, -0.00023008, -0.00123706,  0.00457129, -0.00599024,\n",
       "        -0.00800518,  0.00196529, -0.00854223,  0.03155751,  0.        ],\n",
       "       [ 0.00775343,  0.0071014 ,  0.00698106, -0.00084318, -0.00966687,\n",
       "        -0.0089762 , -0.00825289,  0.04059168,  0.00631697,  0.        ],\n",
       "       [-0.00877156, -0.00516322, -0.00229901, -0.0080013 , -0.01400029,\n",
       "        -0.01230357, -0.00111072,  0.01525983,  0.        ,  0.        ],\n",
       "       [-0.01485919, -0.01229501, -0.00360805, -0.00168751, -0.01095043,\n",
       "         0.04128057,  0.01623823,  0.        ,  0.        ,  0.        ],\n",
       "       [-0.01009395,  0.00085043, -0.001981  , -0.00312842,  0.03269481,\n",
       "         0.00648431,  0.        ,  0.        ,  0.        ,  0.        ],\n",
       "       [ 0.02090931,  0.02302273,  0.0182438 ,  0.01199295,  0.        ,\n",
       "         0.        ,  0.        ,  0.        ,  0.        ,  0.        ]])"
      ]
     },
     "execution_count": 15,
     "metadata": {},
     "output_type": "execute_result"
    }
   ],
   "source": [
    "(newheat[12:-2,12:-2]/np.mean(newheat[np.nonzero(newheat)])-komodomap)"
   ]
  },
  {
   "cell_type": "code",
   "execution_count": null,
   "metadata": {},
   "outputs": [],
   "source": []
  }
 ],
 "metadata": {
  "kernelspec": {
   "display_name": "Python 3",
   "language": "python",
   "name": "python3"
  },
  "language_info": {
   "codemirror_mode": {
    "name": "ipython",
    "version": 3
   },
   "file_extension": ".py",
   "mimetype": "text/x-python",
   "name": "python",
   "nbconvert_exporter": "python",
   "pygments_lexer": "ipython3",
   "version": "3.11.0"
  }
 },
 "nbformat": 4,
 "nbformat_minor": 4
}
