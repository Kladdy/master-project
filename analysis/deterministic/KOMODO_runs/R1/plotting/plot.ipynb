{
 "cells": [
  {
   "cell_type": "code",
   "execution_count": 1,
   "metadata": {},
   "outputs": [
    {
     "name": "stdout",
     "output_type": "stream",
     "text": [
      "Importing...\n",
      "Found 20000 result folders\n",
      "Loading data with 10 processes...\n"
     ]
    },
    {
     "name": "stderr",
     "output_type": "stream",
     "text": [
      "  1%|          | 151/20000 [00:00<00:13, 1504.35it/s]"
     ]
    },
    {
     "name": "stdout",
     "output_type": "stream",
     "text": [
      "Found 0 lines with 'MULTIPLICATION EFFECTIVE (K-EFF)' in them. Expected 1. Path: ../results/RUNDATA_R1_192\n"
     ]
    },
    {
     "name": "stderr",
     "output_type": "stream",
     "text": [
      "  2%|▏         | 302/20000 [00:00<00:15, 1234.99it/s]"
     ]
    },
    {
     "name": "stdout",
     "output_type": "stream",
     "text": [
      "Found 0 lines with 'MULTIPLICATION EFFECTIVE (K-EFF)' in them. Expected 1. Path: ../results/RUNDATA_R1_310\n"
     ]
    },
    {
     "name": "stderr",
     "output_type": "stream",
     "text": [
      "  3%|▎         | 680/20000 [00:00<00:15, 1218.89it/s]"
     ]
    },
    {
     "name": "stdout",
     "output_type": "stream",
     "text": [
      "Found 0 lines with 'MULTIPLICATION EFFECTIVE (K-EFF)' in them. Expected 1. Path: ../results/RUNDATA_R1_682\n",
      "Found 0 lines with 'MULTIPLICATION EFFECTIVE (K-EFF)' in them. Expected 1. Path: ../results/RUNDATA_R1_769\n"
     ]
    },
    {
     "name": "stderr",
     "output_type": "stream",
     "text": [
      "  8%|▊         | 1650/20000 [00:01<00:16, 1103.14it/s]"
     ]
    },
    {
     "name": "stdout",
     "output_type": "stream",
     "text": [
      "Found 0 lines with 'MULTIPLICATION EFFECTIVE (K-EFF)' in them. Expected 1. Path: ../results/RUNDATA_R1_1687\n"
     ]
    },
    {
     "name": "stderr",
     "output_type": "stream",
     "text": [
      "  9%|▉         | 1762/20000 [00:01<00:16, 1102.26it/s]"
     ]
    },
    {
     "name": "stdout",
     "output_type": "stream",
     "text": [
      "Found 0 lines with 'MULTIPLICATION EFFECTIVE (K-EFF)' in them. Expected 1. Path: ../results/RUNDATA_R1_1826\n"
     ]
    },
    {
     "name": "stderr",
     "output_type": "stream",
     "text": [
      " 10%|▉         | 1984/20000 [00:01<00:17, 1055.17it/s]"
     ]
    },
    {
     "name": "stdout",
     "output_type": "stream",
     "text": [
      "Found 0 lines with 'MULTIPLICATION EFFECTIVE (K-EFF)' in them. Expected 1. Path: ../results/RUNDATA_R1_2055\n",
      "Found 0 lines with 'MULTIPLICATION EFFECTIVE (K-EFF)' in them. Expected 1. Path: ../results/RUNDATA_R1_2078\n"
     ]
    },
    {
     "name": "stderr",
     "output_type": "stream",
     "text": [
      " 11%|█         | 2207/20000 [00:01<00:16, 1061.67it/s]"
     ]
    },
    {
     "name": "stdout",
     "output_type": "stream",
     "text": [
      "Found 0 lines with 'MULTIPLICATION EFFECTIVE (K-EFF)' in them. Expected 1. Path: ../results/RUNDATA_R1_2269\n"
     ]
    },
    {
     "name": "stderr",
     "output_type": "stream",
     "text": [
      " 14%|█▍        | 2828/20000 [00:02<00:17, 997.30it/s] "
     ]
    },
    {
     "name": "stdout",
     "output_type": "stream",
     "text": [
      "Found 0 lines with 'MULTIPLICATION EFFECTIVE (K-EFF)' in them. Expected 1. Path: ../results/RUNDATA_R1_2857\n",
      "Found 0 lines with 'MULTIPLICATION EFFECTIVE (K-EFF)' in them. Expected 1. Path: ../results/RUNDATA_R1_2869\n"
     ]
    },
    {
     "name": "stderr",
     "output_type": "stream",
     "text": [
      " 17%|█▋        | 3344/20000 [00:03<00:16, 1015.04it/s]"
     ]
    },
    {
     "name": "stdout",
     "output_type": "stream",
     "text": [
      "Found 0 lines with 'MULTIPLICATION EFFECTIVE (K-EFF)' in them. Expected 1. Path: ../results/RUNDATA_R1_3420\n"
     ]
    },
    {
     "name": "stderr",
     "output_type": "stream",
     "text": [
      " 19%|█▉        | 3855/20000 [00:03<00:16, 1004.94it/s]"
     ]
    },
    {
     "name": "stdout",
     "output_type": "stream",
     "text": [
      "Found 0 lines with 'MULTIPLICATION EFFECTIVE (K-EFF)' in them. Expected 1. Path: ../results/RUNDATA_R1_3928\n"
     ]
    },
    {
     "name": "stderr",
     "output_type": "stream",
     "text": [
      " 20%|██        | 4057/20000 [00:03<00:16, 995.37it/s] "
     ]
    },
    {
     "name": "stdout",
     "output_type": "stream",
     "text": [
      "Found 0 lines with 'MULTIPLICATION EFFECTIVE (K-EFF)' in them. Expected 1. Path: ../results/RUNDATA_R1_4079\n"
     ]
    },
    {
     "name": "stderr",
     "output_type": "stream",
     "text": [
      " 21%|██        | 4159/20000 [00:03<00:15, 998.56it/s]"
     ]
    },
    {
     "name": "stdout",
     "output_type": "stream",
     "text": [
      "Found 0 lines with 'MULTIPLICATION EFFECTIVE (K-EFF)' in them. Expected 1. Path: ../results/RUNDATA_R1_4174\n"
     ]
    },
    {
     "name": "stderr",
     "output_type": "stream",
     "text": [
      " 23%|██▎       | 4569/20000 [00:04<00:15, 1015.38it/s]"
     ]
    },
    {
     "name": "stdout",
     "output_type": "stream",
     "text": [
      "Found 0 lines with 'MULTIPLICATION EFFECTIVE (K-EFF)' in them. Expected 1. Path: ../results/RUNDATA_R1_4597\n"
     ]
    },
    {
     "name": "stderr",
     "output_type": "stream",
     "text": [
      " 30%|██▉       | 5939/20000 [00:05<00:13, 1047.49it/s]"
     ]
    },
    {
     "name": "stdout",
     "output_type": "stream",
     "text": [
      "Found 0 lines with 'MULTIPLICATION EFFECTIVE (K-EFF)' in them. Expected 1. Path: ../results/RUNDATA_R1_5984\n"
     ]
    },
    {
     "name": "stderr",
     "output_type": "stream",
     "text": [
      " 35%|███▍      | 6987/20000 [00:06<00:12, 1023.77it/s]"
     ]
    },
    {
     "name": "stdout",
     "output_type": "stream",
     "text": [
      "Found 0 lines with 'MULTIPLICATION EFFECTIVE (K-EFF)' in them. Expected 1. Path: ../results/RUNDATA_R1_7067\n"
     ]
    },
    {
     "name": "stderr",
     "output_type": "stream",
     "text": [
      " 39%|███▉      | 7816/20000 [00:07<00:11, 1027.61it/s]"
     ]
    },
    {
     "name": "stdout",
     "output_type": "stream",
     "text": [
      "Found 0 lines with 'MULTIPLICATION EFFECTIVE (K-EFF)' in them. Expected 1. Path: ../results/RUNDATA_R1_7832\n"
     ]
    },
    {
     "name": "stderr",
     "output_type": "stream",
     "text": [
      " 43%|████▎     | 8542/20000 [00:08<00:11, 1001.47it/s]"
     ]
    },
    {
     "name": "stdout",
     "output_type": "stream",
     "text": [
      "Found 0 lines with 'MULTIPLICATION EFFECTIVE (K-EFF)' in them. Expected 1. Path: ../results/RUNDATA_R1_8572\n"
     ]
    },
    {
     "name": "stderr",
     "output_type": "stream",
     "text": [
      " 43%|████▎     | 8643/20000 [00:08<00:11, 990.60it/s] "
     ]
    },
    {
     "name": "stdout",
     "output_type": "stream",
     "text": [
      "Found 0 lines with 'MULTIPLICATION EFFECTIVE (K-EFF)' in them. Expected 1. Path: ../results/RUNDATA_R1_8698\n"
     ]
    },
    {
     "name": "stderr",
     "output_type": "stream",
     "text": [
      " 47%|████▋     | 9462/20000 [00:09<00:10, 1001.52it/s]"
     ]
    },
    {
     "name": "stdout",
     "output_type": "stream",
     "text": [
      "Found 0 lines with 'MULTIPLICATION EFFECTIVE (K-EFF)' in them. Expected 1. Path: ../results/RUNDATA_R1_9535\n"
     ]
    },
    {
     "name": "stderr",
     "output_type": "stream",
     "text": [
      " 54%|█████▎    | 10725/20000 [00:10<00:07, 1208.53it/s]"
     ]
    },
    {
     "name": "stdout",
     "output_type": "stream",
     "text": [
      "Found 0 lines with 'MULTIPLICATION EFFECTIVE (K-EFF)' in them. Expected 1. Path: ../results/RUNDATA_R1_10730\n"
     ]
    },
    {
     "name": "stderr",
     "output_type": "stream",
     "text": [
      " 56%|█████▌    | 11112/20000 [00:10<00:07, 1248.98it/s]"
     ]
    },
    {
     "name": "stdout",
     "output_type": "stream",
     "text": [
      "Found 0 lines with 'MULTIPLICATION EFFECTIVE (K-EFF)' in them. Expected 1. Path: ../results/RUNDATA_R1_11133\n"
     ]
    },
    {
     "name": "stderr",
     "output_type": "stream",
     "text": [
      " 57%|█████▋    | 11361/20000 [00:10<00:07, 1229.95it/s]"
     ]
    },
    {
     "name": "stdout",
     "output_type": "stream",
     "text": [
      "Found 0 lines with 'MULTIPLICATION EFFECTIVE (K-EFF)' in them. Expected 1. Path: ../results/RUNDATA_R1_11370\n"
     ]
    },
    {
     "name": "stderr",
     "output_type": "stream",
     "text": [
      " 64%|██████▍   | 12762/20000 [00:11<00:05, 1251.07it/s]"
     ]
    },
    {
     "name": "stdout",
     "output_type": "stream",
     "text": [
      "Found 0 lines with 'MULTIPLICATION EFFECTIVE (K-EFF)' in them. Expected 1. Path: ../results/RUNDATA_R1_12876\n"
     ]
    },
    {
     "name": "stderr",
     "output_type": "stream",
     "text": [
      " 64%|██████▍   | 12894/20000 [00:11<00:05, 1266.29it/s]"
     ]
    },
    {
     "name": "stdout",
     "output_type": "stream",
     "text": [
      "Found 0 lines with 'MULTIPLICATION EFFECTIVE (K-EFF)' in them. Expected 1. Path: ../results/RUNDATA_R1_13002\n"
     ]
    },
    {
     "name": "stderr",
     "output_type": "stream",
     "text": [
      " 67%|██████▋   | 13395/20000 [00:12<00:05, 1223.90it/s]"
     ]
    },
    {
     "name": "stdout",
     "output_type": "stream",
     "text": [
      "Found 0 lines with 'MULTIPLICATION EFFECTIVE (K-EFF)' in them. Expected 1. Path: ../results/RUNDATA_R1_13416\n"
     ]
    },
    {
     "name": "stderr",
     "output_type": "stream",
     "text": [
      " 71%|███████   | 14140/20000 [00:12<00:04, 1218.01it/s]"
     ]
    },
    {
     "name": "stdout",
     "output_type": "stream",
     "text": [
      "Found 0 lines with 'MULTIPLICATION EFFECTIVE (K-EFF)' in them. Expected 1. Path: ../results/RUNDATA_R1_14152\n",
      "Found 0 lines with 'MULTIPLICATION EFFECTIVE (K-EFF)' in them. Expected 1. Path: ../results/RUNDATA_R1_14232\n"
     ]
    },
    {
     "name": "stderr",
     "output_type": "stream",
     "text": [
      " 72%|███████▏  | 14384/20000 [00:13<00:04, 1208.95it/s]"
     ]
    },
    {
     "name": "stdout",
     "output_type": "stream",
     "text": [
      "Found 0 lines with 'MULTIPLICATION EFFECTIVE (K-EFF)' in them. Expected 1. Path: ../results/RUNDATA_R1_14472\n"
     ]
    },
    {
     "name": "stderr",
     "output_type": "stream",
     "text": [
      " 73%|███████▎  | 14509/20000 [00:13<00:04, 1219.07it/s]"
     ]
    },
    {
     "name": "stdout",
     "output_type": "stream",
     "text": [
      "Found 0 lines with 'MULTIPLICATION EFFECTIVE (K-EFF)' in them. Expected 1. Path: ../results/RUNDATA_R1_14554\n"
     ]
    },
    {
     "name": "stderr",
     "output_type": "stream",
     "text": [
      " 84%|████████▍ | 16760/20000 [00:15<00:02, 1127.68it/s]"
     ]
    },
    {
     "name": "stdout",
     "output_type": "stream",
     "text": [
      "Found 0 lines with 'MULTIPLICATION EFFECTIVE (K-EFF)' in them. Expected 1. Path: ../results/RUNDATA_R1_16787\n"
     ]
    },
    {
     "name": "stderr",
     "output_type": "stream",
     "text": [
      " 85%|████████▌ | 17094/20000 [00:15<00:02, 1035.16it/s]"
     ]
    },
    {
     "name": "stdout",
     "output_type": "stream",
     "text": [
      "Found 0 lines with 'MULTIPLICATION EFFECTIVE (K-EFF)' in them. Expected 1. Path: ../results/RUNDATA_R1_17154\n"
     ]
    },
    {
     "name": "stderr",
     "output_type": "stream",
     "text": [
      " 87%|████████▋ | 17403/20000 [00:15<00:02, 999.50it/s] "
     ]
    },
    {
     "name": "stdout",
     "output_type": "stream",
     "text": [
      "Found 0 lines with 'MULTIPLICATION EFFECTIVE (K-EFF)' in them. Expected 1. Path: ../results/RUNDATA_R1_17453\n"
     ]
    },
    {
     "name": "stderr",
     "output_type": "stream",
     "text": [
      " 90%|████████▉ | 17920/20000 [00:16<00:02, 1010.34it/s]"
     ]
    },
    {
     "name": "stdout",
     "output_type": "stream",
     "text": [
      "Found 0 lines with 'MULTIPLICATION EFFECTIVE (K-EFF)' in them. Expected 1. Path: ../results/RUNDATA_R1_17986\n"
     ]
    },
    {
     "name": "stderr",
     "output_type": "stream",
     "text": [
      " 91%|█████████ | 18231/20000 [00:16<00:01, 1025.28it/s]"
     ]
    },
    {
     "name": "stdout",
     "output_type": "stream",
     "text": [
      "Found 0 lines with 'MULTIPLICATION EFFECTIVE (K-EFF)' in them. Expected 1. Path: ../results/RUNDATA_R1_18248\n"
     ]
    },
    {
     "name": "stderr",
     "output_type": "stream",
     "text": [
      " 94%|█████████▎| 18738/20000 [00:17<00:01, 976.53it/s] "
     ]
    },
    {
     "name": "stdout",
     "output_type": "stream",
     "text": [
      "Found 0 lines with 'MULTIPLICATION EFFECTIVE (K-EFF)' in them. Expected 1. Path: ../results/RUNDATA_R1_18748\n"
     ]
    },
    {
     "name": "stderr",
     "output_type": "stream",
     "text": [
      " 94%|█████████▍| 18849/20000 [00:17<00:01, 1012.85it/s]"
     ]
    },
    {
     "name": "stdout",
     "output_type": "stream",
     "text": [
      "Found 0 lines with 'MULTIPLICATION EFFECTIVE (K-EFF)' in them. Expected 1. Path: ../results/RUNDATA_R1_18944\n"
     ]
    },
    {
     "name": "stderr",
     "output_type": "stream",
     "text": [
      " 97%|█████████▋| 19472/20000 [00:17<00:00, 1017.60it/s]"
     ]
    },
    {
     "name": "stdout",
     "output_type": "stream",
     "text": [
      "Found 0 lines with 'MULTIPLICATION EFFECTIVE (K-EFF)' in them. Expected 1. Path: ../results/RUNDATA_R1_19568\n"
     ]
    },
    {
     "name": "stderr",
     "output_type": "stream",
     "text": [
      "100%|██████████| 20000/20000 [00:18<00:00, 1089.95it/s]\n"
     ]
    }
   ],
   "source": [
    "PROCESSES_COUNT = 10\n",
    "\n",
    "print(\"Importing...\")\n",
    "from multiprocessing import Pool\n",
    "\n",
    "import importlib\n",
    "import os\n",
    "import sys\n",
    "TOOLS_PATH = f\"{os.getenv('MASTER_PROJECT_ROOT_FOLDER')}/logistics\"\n",
    "sys.path.insert(0, TOOLS_PATH)\n",
    "from tools import run_tools, plot_tools, data_tools, endf_tools, komodo_tools\n",
    "import seaborn as sns\n",
    "import pandas as pd\n",
    "import matplotlib.pyplot as plt\n",
    "import numpy as np\n",
    "# from progressbar import progressbar\n",
    "from tqdm import tqdm\n",
    "from uncertainties import ufloat\n",
    "\n",
    "importlib.reload(komodo_tools)\n",
    "\n",
    "results = []\n",
    "\n",
    "result_folders = run_tools.get_all_result_dirs()\n",
    "print(f\"Found {len(result_folders)} result folders\")\n",
    "\n",
    "def handle_folder(result_folder):\n",
    "    result_path = f\"../results/{result_folder}\"\n",
    "    run_settings = run_tools.load_run_settings_json(result_path)\n",
    "\n",
    "    result = { \n",
    "        \"result_path\": result_path\n",
    "    }\n",
    "\n",
    "    # Load the KOMODO result\n",
    "    komodo_result = komodo_tools.get_komodo_result(result_path, komodo_input_file=run_settings[\"komodo_input_file\"])\n",
    "    if komodo_result is None:\n",
    "        return None\n",
    "\n",
    "    result.update(run_settings)\n",
    "    result.update(komodo_result)\n",
    "    \n",
    "    return result\n",
    "\n",
    "print(f\"Loading data with {PROCESSES_COUNT} processes...\")\n",
    "with Pool(PROCESSES_COUNT) as p:\n",
    "    # Loop over each run number and get the run settings as well as the k-effective\n",
    "    # for result_folder in tqdm(result_folders):\n",
    "    results = list(tqdm(p.imap(handle_folder, result_folders), total=len(result_folders)))\n",
    "\n",
    "# Remove any results that failed\n",
    "results = [result for result in results if result is not None]"
   ]
  },
  {
   "cell_type": "code",
   "execution_count": 2,
   "metadata": {},
   "outputs": [
    {
     "data": {
      "image/png": "[encoded data removed]",
      "text/plain": [
       "<Figure size 640x480 with 1 Axes>"
      ]
     },
     "metadata": {},
     "output_type": "display_data"
    },
    {
     "data": {
      "image/png": "[encoded data removed]",
      "text/plain": [
       "<Figure size 640x480 with 1 Axes>"
      ]
     },
     "metadata": {},
     "output_type": "display_data"
    }
   ],
   "source": [
    "importlib.reload(plot_tools)\n",
    "importlib.reload(data_tools)\n",
    "importlib.reload(komodo_tools)\n",
    "\n",
    "# PLOT SETTINGS:\n",
    "for FAST_REACTOR in [True, False]:\n",
    "    plt.close(\"all\")\n",
    "\n",
    "    NEUTRON_TEMP = \"EPITHERMAL\" if FAST_REACTOR else \"THERMAL\"\n",
    "\n",
    "    folder_name = f\"plots-{NEUTRON_TEMP}\"\n",
    "    os.makedirs(folder_name, exist_ok=True)\n",
    "\n",
    "    def get_filename(plot_type: str, value: str):\n",
    "        return f\"{folder_name}/{plot_type}_{value}-{NEUTRON_TEMP}.pdf\"\n",
    "\n",
    "    # Create a dataframe from the results\n",
    "    df = pd.DataFrame(results)\n",
    "\n",
    "    # Filters\n",
    "    df = df[df[\"fast_reactor\"] == FAST_REACTOR]\n",
    "\n",
    "    if df.empty:\n",
    "        print(f\"WARN: No results found for {NEUTRON_TEMP} reactor\")\n",
    "        break\n",
    "\n",
    "    df = data_tools.add_reactivity_to_df(df, include_std=False)\n",
    "\n",
    "    plt.figure()\n",
    "    fig, popt, pcov = plot_tools.plot_histogram_from_df(df=df, data_key=\"k-eff\", \n",
    "                                            fit_gaussian=True, decimals=5,\n",
    "                                            title=f\"Distribution of $k_{{eff}}$ for {len(df)} runs, {NEUTRON_TEMP.lower()} reactor\", x_label=\"$k_{eff}$\", y_label=\"Count\",\n",
    "                                            filename=get_filename(\"heatmap\", \"distribution-k_eff\"))\n",
    "\n",
    "    plt.figure()\n",
    "    fig, popt, pcov = plot_tools.plot_histogram_from_df(df=df, data_key=\"rho-pcm\", color=\"mediumseagreen\",\n",
    "                                            fit_gaussian=True, decimals=0,\n",
    "                                            title=fr\"Distribution of $\\rho$ for {len(df)} runs, {NEUTRON_TEMP.lower()} reactor\", x_label=r\"$\\rho$ [pcm]\", y_label=\"Count\",\n",
    "                                            filename=get_filename(\"heatmap\", \"distribution-rho\"))"
   ]
  },
  {
   "cell_type": "code",
   "execution_count": null,
   "metadata": {},
   "outputs": [],
   "source": []
  }
 ],
 "metadata": {
  "kernelspec": {
   "display_name": "base",
   "language": "python",
   "name": "python3"
  },
  "language_info": {
   "codemirror_mode": {
    "name": "ipython",
    "version": 3
   },
   "file_extension": ".py",
   "mimetype": "text/x-python",
   "name": "python",
   "nbconvert_exporter": "python",
   "pygments_lexer": "ipython3",
   "version": "3.11.0"
  },
  "orig_nbformat": 4
 },
 "nbformat": 4,
 "nbformat_minor": 2
}
