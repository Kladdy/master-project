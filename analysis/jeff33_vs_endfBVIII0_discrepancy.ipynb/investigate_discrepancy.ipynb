{
 "cells": [
  {
   "cell_type": "code",
   "execution_count": 3,
   "metadata": {},
   "outputs": [
    {
     "name": "stdout",
     "output_type": "stream",
     "text": [
      "Reactor type: THERMAL\n",
      "statistic = 32.243207659407545\n",
      "pvalue = 7.26386238e-157\n",
      "\n",
      "Reactor type: EPITHERMAL\n",
      "statistic = 52.9950086129055\n",
      "pvalue = 2.25705194e-292\n",
      "\n",
      "Reactor type: SEMIEPITHERMAL\n",
      "statistic = 45.200354636802764\n",
      "pvalue = 1.05739420e-243\n",
      "\n"
     ]
    }
   ],
   "source": [
    "import os\n",
    "import sys\n",
    "TOOLS_PATH = f\"{os.getenv('MASTER_PROJECT_ROOT_FOLDER')}/logistics\"\n",
    "sys.path.insert(0, TOOLS_PATH)\n",
    "from tools import run_tools, plot_tools, data_tools, model_tools\n",
    "import numpy as np\n",
    "from scipy.stats import ttest_ind_from_stats\n",
    "\n",
    "# IGNORE THIS; THIS SEEMS LIKE A BAD METHOD TO INVESTIGATE THIS: JUST KEEPING AS A REFERENCE :-) \n",
    "# DATE: 2023-05-11\n",
    "\n",
    "#jeff\n",
    "# Thermal $\\sigma_{k_{eff}}=(3.15\\pm0.10)\\cdot 10^{-4}$\n",
    "# Epithermal $\\sigma_{k_{eff}}=(2.99\\pm0.09)\\cdot 10^{-4}$\n",
    "\n",
    "# np.std on keff distribution\n",
    "# Thermal $\\sigma_{k_{eff}}=(3.63\\pm0.11)\\cdot 10^{-4}$\n",
    "# Epithermal $\\sigma_{k_{eff}}=(3.39\\pm0.11)\\cdot 10^{-4}$\n",
    "\n",
    "# Perform a Baysean test for means\n",
    "nobs1 = 500\n",
    "mean_jeff_thermal = 1.3670\n",
    "mean_jeff_semiepithermal = 1.2767\n",
    "mean_jeff_epithermal = 0.9728\n",
    "std_jeff_thermal = 117e-5\n",
    "std_jeff_semiepithermal = 167.2e-5\n",
    "std_jeff_epithermal = 205.8e-5\n",
    "\n",
    "nobs2 = 500\n",
    "mean_endfbviii_thermal = 1.3653\n",
    "mean_endfbviii_semiepithermal = 1.2733\n",
    "mean_endfbviii_epithermal = 0.9679\n",
    "std_endfbviii_thermal = 14.5e-5\n",
    "std_endfbviii_semiepithermal = 18.3e-5\n",
    "std_endfbviii_epithermal = 19.8e-5\n",
    "\n",
    "for reactor_type in [model_tools.THERMAL_REACTOR, model_tools.EPITHERMAL_REACTOR, model_tools.SEMIEPITHERMAL_REACTOR]:\n",
    "    if reactor_type == model_tools.THERMAL_REACTOR:\n",
    "        mean1 = mean_jeff_thermal\n",
    "        mean2 = mean_endfbviii_thermal\n",
    "        uncertainty1 = std_jeff_thermal\n",
    "        uncertainty2 = std_endfbviii_thermal\n",
    "    elif reactor_type == model_tools.SEMIEPITHERMAL_REACTOR:\n",
    "        mean1 = mean_jeff_semiepithermal\n",
    "        mean2 = mean_endfbviii_semiepithermal\n",
    "        uncertainty1 = std_jeff_semiepithermal\n",
    "        uncertainty2 = std_endfbviii_semiepithermal\n",
    "    elif reactor_type == model_tools.EPITHERMAL_REACTOR:\n",
    "        mean1 = mean_jeff_epithermal\n",
    "        mean2 = mean_endfbviii_epithermal\n",
    "        uncertainty1 = std_jeff_epithermal\n",
    "        uncertainty2 = std_endfbviii_epithermal\n",
    "    else:\n",
    "        raise ValueError(f\"Unhandled reactor type {reactor_type}\")\n",
    "\n",
    "    statistic, pvalue = ttest_ind_from_stats(mean1=mean1, std1=uncertainty1, nobs1=nobs1, mean2=mean2, std2=uncertainty2, nobs2=nobs2)\n",
    "    print(f\"Reactor type: {reactor_type}\")\n",
    "    print(f\"statistic = {statistic}\")\n",
    "    print(f\"pvalue = {pvalue:.8e}\")\n",
    "    print(\"\")\n"
   ]
  },
  {
   "cell_type": "code",
   "execution_count": null,
   "metadata": {},
   "outputs": [],
   "source": []
  }
 ],
 "metadata": {
  "kernelspec": {
   "display_name": "base",
   "language": "python",
   "name": "python3"
  },
  "language_info": {
   "codemirror_mode": {
    "name": "ipython",
    "version": 3
   },
   "file_extension": ".py",
   "mimetype": "text/x-python",
   "name": "python",
   "nbconvert_exporter": "python",
   "pygments_lexer": "ipython3",
   "version": "3.11.0"
  },
  "orig_nbformat": 4
 },
 "nbformat": 4,
 "nbformat_minor": 2
}
