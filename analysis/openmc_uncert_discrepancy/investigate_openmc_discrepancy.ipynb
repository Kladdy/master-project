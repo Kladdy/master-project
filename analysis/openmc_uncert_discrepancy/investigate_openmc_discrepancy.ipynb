{
 "cells": [
  {
   "cell_type": "code",
   "execution_count": 14,
   "metadata": {},
   "outputs": [
    {
     "name": "stdout",
     "output_type": "stream",
     "text": [
      "Reactor type: THERMAL\n",
      "statistic = -72.19882051154237\n",
      "pvalue = 0.00000000e+00\n",
      "\n",
      "Reactor type: EPITHERMAL\n",
      "statistic = -62.931677552755254\n",
      "pvalue = 0.00000000e+00\n",
      "\n"
     ]
    }
   ],
   "source": [
    "import os\n",
    "import sys\n",
    "TOOLS_PATH = f\"{os.getenv('MASTER_PROJECT_ROOT_FOLDER')}/logistics\"\n",
    "sys.path.insert(0, TOOLS_PATH)\n",
    "from tools import run_tools, plot_tools, data_tools, model_tools\n",
    "import numpy as np\n",
    "from scipy.stats import ttest_ind_from_stats\n",
    "\n",
    "#OpenMC\n",
    "# Thermal $\\sigma_{k_{eff}}=(3.15\\pm0.10)\\cdot 10^{-4}$\n",
    "# Epithermal $\\sigma_{k_{eff}}=(2.99\\pm0.09)\\cdot 10^{-4}$\n",
    "\n",
    "# np.std on keff distribution\n",
    "# Thermal $\\sigma_{k_{eff}}=(3.63\\pm0.11)\\cdot 10^{-4}$\n",
    "# Epithermal $\\sigma_{k_{eff}}=(3.39\\pm0.11)\\cdot 10^{-4}$\n",
    "\n",
    "# Perform a Baysean test for means\n",
    "nobs1 = 500\n",
    "mean_openmc_thermal = 3.15 * 1e-4\n",
    "mean_openmc_epithermal = 2.99 * 1e-4\n",
    "std_openmc_thermal = 0.10 * 1e-4\n",
    "std_openmc_epithermal = 0.09 * 1e-4\n",
    "\n",
    "nobs2 = 500\n",
    "mean_npstd_thermal = 3.63 * 1e-4\n",
    "mean_npstd_epithermal = 3.39 * 1e-4\n",
    "std_npstd_thermal = 0.11 * 1e-4\n",
    "std_npstd_epithermal = 0.11 * 1e-4\n",
    "\n",
    "for reactor_type in [model_tools.THERMAL_REACTOR, model_tools.EPITHERMAL_REACTOR]:\n",
    "    if reactor_type == model_tools.THERMAL_REACTOR:\n",
    "        mean1 = mean_openmc_thermal\n",
    "        mean2 = mean_npstd_thermal\n",
    "        uncertainty1 = std_openmc_thermal\n",
    "        uncertainty2 = std_npstd_thermal\n",
    "    else:\n",
    "        mean1 = mean_openmc_epithermal\n",
    "        mean2 = mean_npstd_epithermal\n",
    "        uncertainty1 = std_openmc_epithermal\n",
    "        uncertainty2 = std_npstd_epithermal\n",
    "\n",
    "    statistic, pvalue = ttest_ind_from_stats(mean1=mean1, std1=uncertainty1, nobs1=nobs1, mean2=mean2, std2=uncertainty2, nobs2=nobs2)\n",
    "    print(f\"Reactor type: {reactor_type}\")\n",
    "    print(f\"statistic = {statistic}\")\n",
    "    print(f\"pvalue = {pvalue:.8e}\")\n",
    "    print(\"\")\n"
   ]
  },
  {
   "cell_type": "code",
   "execution_count": null,
   "metadata": {},
   "outputs": [],
   "source": []
  }
 ],
 "metadata": {
  "kernelspec": {
   "display_name": "base",
   "language": "python",
   "name": "python3"
  },
  "language_info": {
   "codemirror_mode": {
    "name": "ipython",
    "version": 3
   },
   "file_extension": ".py",
   "mimetype": "text/x-python",
   "name": "python",
   "nbconvert_exporter": "python",
   "pygments_lexer": "ipython3",
   "version": "3.11.0"
  },
  "orig_nbformat": 4
 },
 "nbformat": 4,
 "nbformat_minor": 2
}
