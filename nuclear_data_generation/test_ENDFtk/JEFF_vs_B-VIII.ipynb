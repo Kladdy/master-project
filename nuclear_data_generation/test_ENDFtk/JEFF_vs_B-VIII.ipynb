{
 "cells": [
  {
   "cell_type": "code",
   "execution_count": 1,
   "metadata": {},
   "outputs": [
    {
     "name": "stdout",
     "output_type": "stream",
     "text": [
      "/Users/sigge/ENDFtk/build:/Users/sigge/sandy:\n",
      "0\n"
     ]
    },
    {
     "ename": "ModuleNotFoundError",
     "evalue": "No module named 'ENDFtk'",
     "output_type": "error",
     "traceback": [
      "\u001b[0;31m---------------------------------------------------------------------------\u001b[0m",
      "\u001b[0;31mModuleNotFoundError\u001b[0m                       Traceback (most recent call last)",
      "Cell \u001b[0;32mIn [1], line 8\u001b[0m\n\u001b[1;32m      6\u001b[0m \u001b[39mimport\u001b[39;00m \u001b[39mnumpy\u001b[39;00m \u001b[39mas\u001b[39;00m \u001b[39mnp\u001b[39;00m\n\u001b[1;32m      7\u001b[0m \u001b[39mimport\u001b[39;00m \u001b[39mmatplotlib\u001b[39;00m\u001b[39m.\u001b[39;00m\u001b[39mpyplot\u001b[39;00m \u001b[39mas\u001b[39;00m \u001b[39mplt\u001b[39;00m\n\u001b[0;32m----> 8\u001b[0m \u001b[39mimport\u001b[39;00m \u001b[39mENDFtk\u001b[39;00m\n\u001b[1;32m     10\u001b[0m jeff_filename \u001b[39m=\u001b[39m \u001b[39m\"\u001b[39m\u001b[39mn_0925_9-F-19_JEFF33.dat\u001b[39m\u001b[39m\"\u001b[39m\n\u001b[1;32m     11\u001b[0m bviii_filename \u001b[39m=\u001b[39m \u001b[39m\"\u001b[39m\u001b[39mn_0925_9-F-19_B-VIII.dat\u001b[39m\u001b[39m\"\u001b[39m\n",
      "\u001b[0;31mModuleNotFoundError\u001b[0m: No module named 'ENDFtk'"
     ]
    }
   ],
   "source": [
    "import sys\n",
    "import os\n",
    "sys.path.append(\"/Users/sigge/ENDFtk/build\")\n",
    "print(os.system(\"echo $PYTHONPATH\"))\n",
    "# sys.path.append(\"/Users/sigge/ENDFtk/build\")\n",
    "import numpy as np\n",
    "import matplotlib.pyplot as plt\n",
    "import ENDFtk\n",
    "\n",
    "jeff_filename = \"n_0925_9-F-19_JEFF33.dat\"\n",
    "bviii_filename = \"n_0925_9-F-19_B-VIII.dat\"\n",
    "\n",
    "tape = ENDFtk.tree.Tape.from_file(jeff_filename)\n",
    "section = tape.material(9237).file(3).section(102).parse()"
   ]
  },
  {
   "cell_type": "code",
   "execution_count": null,
   "metadata": {},
   "outputs": [],
   "source": []
  }
 ],
 "metadata": {
  "kernelspec": {
   "display_name": "openmc-env",
   "language": "python",
   "name": "python3"
  },
  "language_info": {
   "codemirror_mode": {
    "name": "ipython",
    "version": 3
   },
   "file_extension": ".py",
   "mimetype": "text/x-python",
   "name": "python",
   "nbconvert_exporter": "python",
   "pygments_lexer": "ipython3",
   "version": "3.11.0"
  },
  "orig_nbformat": 4,
  "vscode": {
   "interpreter": {
    "hash": "67e67cf57cd57ccc74f44c6b1ba81272905fa8788cce01abf0b574025132f2cb"
   }
  }
 },
 "nbformat": 4,
 "nbformat_minor": 2
}
