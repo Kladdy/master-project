{
 "cells": [
  {
   "cell_type": "code",
   "execution_count": 1,
   "metadata": {},
   "outputs": [],
   "source": [
    "import os\n",
    "import sys\n",
    "import subprocess\n",
    "# sys.path.insert(1, f\"{subprocess.Popen(['git', 'rev-parse', '--show-toplevel'], stdout=subprocess.PIPE).communicate()[0].rstrip().decode('utf-8')}/logistics/tools\")\n",
    "TOOLS_PATH = f\"{os.getenv('MASTER_PROJECT_ROOT_FOLDER')}/logistics\"\n",
    "sys.path.insert(0, TOOLS_PATH)\n",
    "from tools import run_tools, endf_tools\n",
    "import numpy as np\n",
    "# import openmc\n",
    "import h5py\n",
    "import matplotlib.pyplot as plt\n",
    "from tqdm import tqdm\n",
    "import pandas as pd\n",
    "import seaborn as sns\n",
    "# from tools import image_to_thesis\n",
    "# image_to_thesis.pull_from_thesis()\n"
   ]
  },
  {
   "cell_type": "code",
   "execution_count": 8,
   "metadata": {},
   "outputs": [
    {
     "name": "stdout",
     "output_type": "stream",
     "text": [
      "v3 - MT2\n"
     ]
    },
    {
     "name": "stderr",
     "output_type": "stream",
     "text": [
      "100%|██████████| 500/500 [00:01<00:00, 307.18it/s]\n"
     ]
    },
    {
     "name": "stdout",
     "output_type": "stream",
     "text": [
      "v3 - MT16\n"
     ]
    },
    {
     "name": "stderr",
     "output_type": "stream",
     "text": [
      "100%|██████████| 500/500 [00:01<00:00, 325.20it/s]\n"
     ]
    },
    {
     "name": "stdout",
     "output_type": "stream",
     "text": [
      "v3 - MT22\n"
     ]
    },
    {
     "name": "stderr",
     "output_type": "stream",
     "text": [
      "100%|██████████| 500/500 [00:01<00:00, 302.73it/s]\n"
     ]
    },
    {
     "name": "stdout",
     "output_type": "stream",
     "text": [
      "v3 - MT28\n"
     ]
    },
    {
     "name": "stderr",
     "output_type": "stream",
     "text": [
      "100%|██████████| 500/500 [00:01<00:00, 310.03it/s]\n"
     ]
    },
    {
     "name": "stdout",
     "output_type": "stream",
     "text": [
      "v3 - MT51\n"
     ]
    },
    {
     "name": "stderr",
     "output_type": "stream",
     "text": [
      "100%|██████████| 500/500 [00:01<00:00, 323.13it/s]\n"
     ]
    },
    {
     "name": "stdout",
     "output_type": "stream",
     "text": [
      "v3 - MT52\n"
     ]
    },
    {
     "name": "stderr",
     "output_type": "stream",
     "text": [
      "100%|██████████| 500/500 [00:01<00:00, 281.71it/s]\n"
     ]
    },
    {
     "name": "stdout",
     "output_type": "stream",
     "text": [
      "v3 - MT102\n"
     ]
    },
    {
     "name": "stderr",
     "output_type": "stream",
     "text": [
      "100%|██████████| 500/500 [00:01<00:00, 296.11it/s]\n"
     ]
    },
    {
     "name": "stdout",
     "output_type": "stream",
     "text": [
      "v3 - MT103\n"
     ]
    },
    {
     "name": "stderr",
     "output_type": "stream",
     "text": [
      "100%|██████████| 500/500 [00:01<00:00, 261.06it/s]\n"
     ]
    },
    {
     "name": "stdout",
     "output_type": "stream",
     "text": [
      "v3 - MT104\n"
     ]
    },
    {
     "name": "stderr",
     "output_type": "stream",
     "text": [
      "100%|██████████| 500/500 [00:01<00:00, 322.40it/s]\n"
     ]
    },
    {
     "name": "stdout",
     "output_type": "stream",
     "text": [
      "v3 - MT105\n"
     ]
    },
    {
     "name": "stderr",
     "output_type": "stream",
     "text": [
      "100%|██████████| 500/500 [00:01<00:00, 282.40it/s]\n"
     ]
    },
    {
     "name": "stdout",
     "output_type": "stream",
     "text": [
      "v3 - MT107\n"
     ]
    },
    {
     "name": "stderr",
     "output_type": "stream",
     "text": [
      "100%|██████████| 500/500 [00:01<00:00, 253.22it/s]\n"
     ]
    },
    {
     "data": {
      "text/plain": [
       "<Figure size 640x480 with 0 Axes>"
      ]
     },
     "metadata": {},
     "output_type": "display_data"
    },
    {
     "data": {
      "image/png": "[encoded data removed]",
      "text/plain": [
       "<Figure size 640x480 with 1 Axes>"
      ]
     },
     "metadata": {},
     "output_type": "display_data"
    }
   ],
   "source": [
    "TEMPERATURE = 900 # K\n",
    "N_ITERATIONS = 500\n",
    "\n",
    "for MT_INT in [2, 16, 22, 28, 51, 52, 102, 103, 104, 105, 107]:\n",
    "# for MT_INT in [2]:\n",
    "# for MT_INT in [2]:\n",
    "    MT_STRING = f\"{MT_INT:03d}\"\n",
    "\n",
    "    res_folder = f\"results/MT{MT_INT}\"\n",
    "    os.system(f\"rm -rf {res_folder}\")\n",
    "    os.makedirs(res_folder, exist_ok=True)\n",
    "\n",
    "    # df_v1 = pd.DataFrame(columns=[\"energy\", \"xs\"])\n",
    "    df_v3 = pd.DataFrame(columns=[\"energy\", \"xs\"])\n",
    "\n",
    "    for VERSION in [\"v3\"]:\n",
    "        print(f\"{VERSION} - MT{MT_INT}\")\n",
    "        if VERSION == \"v1\":\n",
    "            sampled_h5_files_path = \"/home/fne23_stjarnholm/nuclear_data/sandy_samples_v1/hdf5/F19\"\n",
    "        elif VERSION == \"v3\":\n",
    "            sampled_h5_files_path = \"/home/fne23_stjarnholm/nuclear_data/sandy_samples_v3\"\n",
    "\n",
    "        \n",
    "\n",
    "        x_logspace = np.logspace(np.log10(1e-5), np.log10(2e7), 1000)\n",
    "\n",
    "        for i in tqdm(range(N_ITERATIONS)):\n",
    "            h5_filename = f\"{sampled_h5_files_path}/F19-{i+1}.h5\"\n",
    "\n",
    "            h5file = h5py.File(h5_filename, 'r')\n",
    "            energy_group = h5file[f'F19/energy/{TEMPERATURE}K']\n",
    "            reactions_group = h5file[f'F19/reactions']\n",
    "\n",
    "            xs_group = reactions_group[f'reaction_{MT_STRING}/{TEMPERATURE}K/xs']\n",
    "\n",
    "            # Extract the cross section and energy data\n",
    "            xs = xs_group[:]\n",
    "            if len(xs) != len(energy_group[:]):\n",
    "                energy = energy_group[-len(xs):]\n",
    "            else:\n",
    "                energy = energy_group[:]\n",
    "        \n",
    "            # Interpolate the cross section to the desired energy grid\n",
    "            xs = np.interp(x_logspace, energy, xs)\n",
    "            energy = x_logspace\n",
    "\n",
    "            if VERSION == \"v1\":\n",
    "                df_v1 = pd.concat([df_v1, pd.DataFrame({\"energy\": energy, \"xs\": xs})], ignore_index=True)\n",
    "            elif VERSION == \"v3\":\n",
    "                df_v3 = pd.concat([df_v3, pd.DataFrame({\"energy\": energy, \"xs\": xs})], ignore_index=True)\n",
    "\n",
    "    for df, VERSION in zip([df_v3], [\"v3\"]):\n",
    "        MT_SUFFIX = f\"-MT{MT_INT}\"\n",
    "        MT_STRING = f\"{MT_INT:03d}\"\n",
    "\n",
    "        plt.clf()\n",
    "        plt.figure()\n",
    "        ax = plt.gca()\n",
    "\n",
    "        sns.lineplot(data=df, x=\"energy\", y=\"xs\", errorbar=('pi', 100), linewidth=0, label='_nolegend_')\n",
    "        sns.lineplot(data=df, x=\"energy\", y=\"xs\", errorbar=('pi', 50), linewidth=0, label=\"_nolegend_\")\n",
    "        sns.lineplot(data=df, x=\"energy\", y=\"xs\", errorbar=None, linewidth=0.5, label=\"\")\n",
    "        plt.xscale(\"log\")\n",
    "        plt.yscale(\"log\")\n",
    "\n",
    "        ax.set_xlabel(\"$E_n$ [eV]\")\n",
    "        ax.set_ylabel(\"Cross section [b]\")\n",
    "        # ax.set_title(f\"Sampled {endf_tools.MT_to_label(MT_INT, short=True)} (MT{MT_INT}) cross section\\nfrom {N_ITERATIONS} samples for F-19\")\n",
    "        # plt.legend(['Mean', '50 % percentile interval', '90 % percentile interval', '100 % percentile interval'])\n",
    "        plt.xlim(1e-2, 1e7)\n",
    "        plt.legend(['100 % percentile interval', '50 % percentile interval', 'Mean'])\n",
    "        plt.tight_layout()\n",
    "\n",
    "        plt.savefig(f\"{res_folder}/errorbands_sampled_cross_section_plot_{VERSION}_{MT_STRING}.pdf\")\n",
    "        plt.savefig(f\"{res_folder}/errorbands_sampled_cross_section_plot_{VERSION}_{MT_INT}.pdf\")\n",
    "\n",
    "        plt.close('all')\n",
    "\n",
    "\n",
    "\n",
    "\n",
    "\n",
    "    # Get the mean and standard deviation of the cross sections\n",
    "    # df_v1_mean = df_v1.groupby(\"energy\").mean().reset_index()\n",
    "    # df_v1_std = df_v1.groupby(\"energy\").std().reset_index()\n",
    "    df_v3_mean = df_v3.groupby(\"energy\").mean().reset_index()\n",
    "    df_v3_std = df_v3.groupby(\"energy\").std().reset_index()\n",
    "\n",
    "    # # Plot the mean and standard deviation of the cross sections\n",
    "    # plt.clf()\n",
    "    # plt.figure()\n",
    "    # ax = plt.gca()\n",
    "\n",
    "    # sns.lineplot(data=df_v1_mean, x=\"energy\", y=\"xs\", label=\"v1\")\n",
    "    # sns.lineplot(data=df_v3_mean, x=\"energy\", y=\"xs\", label=\"v3\", linestyle=\"--\")\n",
    "    # plt.xscale(\"log\")\n",
    "    # plt.yscale(\"log\")\n",
    "\n",
    "    # ax.set_xlabel(\"$E_n$ [eV]\")\n",
    "    # ax.set_ylabel(\"Cross section [b]\")\n",
    "    # ax.set_title(f\"Mean sampled {endf_tools.MT_to_label(MT_INT, short=True)} cross section\\nfrom {N_ITERATIONS} samples for F-19\")\n",
    "    # plt.legend()\n",
    "    # plt.tight_layout()\n",
    "\n",
    "    # plt.savefig(f\"{res_folder}/mean_sampled_cross_section_plot_{MT_STRING}.pdf\")\n",
    "\n",
    "\n",
    "\n",
    "\n",
    "\n",
    "    # # Plot the means subtracted from each other\n",
    "    # plt.clf()\n",
    "    # plt.figure()\n",
    "    # ax = plt.gca()\n",
    "\n",
    "    # # Subtract the mean of v3 from the mean of v1\n",
    "    # df_mean_diff = df_v1_mean.copy()\n",
    "    # df_mean_diff[\"xs\"] = df_v1_mean[\"xs\"] - df_v3_mean[\"xs\"]\n",
    "\n",
    "    # sns.lineplot(data=df_mean_diff, x=\"energy\", y=\"xs\", label=\"v1 - v3\")\n",
    "    # plt.xscale(\"log\")\n",
    "    # plt.yscale(\"log\")\n",
    "\n",
    "    # ax.set_xlabel(\"$E_n$ [eV]\")\n",
    "    # ax.set_ylabel(\"Cross section [b]\")\n",
    "    # ax.set_title(f\"Difference in mean sampled {endf_tools.MT_to_label(MT_INT, short=True)} cross section\\nfrom {N_ITERATIONS} samples for F-19\")\n",
    "\n",
    "    # plt.legend()\n",
    "    # plt.tight_layout()\n",
    "\n",
    "    # plt.savefig(f\"{res_folder}/mean_diff_sampled_cross_section_plot_{MT_STRING}.pdf\")\n",
    "\n",
    "\n",
    "\n",
    "\n",
    "    # # Plot the means subtracted from each other, divided by the mean in each energy bin\n",
    "    # plt.clf()\n",
    "    # plt.figure()\n",
    "    # ax = plt.gca()\n",
    "\n",
    "    # # Subtract the mean of v3 from the mean of v1 and divide by the mean of v3\n",
    "    # df_mean_diff = df_v1_mean.copy()\n",
    "    # df_mean_diff[\"xs\"] = df_v1_mean[\"xs\"] - df_v3_mean[\"xs\"]\n",
    "    # df_mean_diff[\"rel\"] = df_mean_diff[\"xs\"] / df_v3_mean[\"xs\"] * 100\n",
    "\n",
    "    # sns.lineplot(data=df_mean_diff, x=\"energy\", y=\"rel\", label=\"v1 - v3\")\n",
    "    # plt.xscale(\"log\")\n",
    "    # # plt.yscale(\"log\")\n",
    "\n",
    "    # plt.axhline(0, color=\"tab:gray\", linestyle=\"dashed\", label=\"0 %\")\n",
    "    # # plt.xlim(min(df_mean_diff[\"energy\"]), max(df_mean_diff[\"energy\"]))\n",
    "\n",
    "    # ax.set_xlabel(\"$E_n$ [eV]\")\n",
    "    # ax.set_ylabel(\"Relative difference in cross section means (%)\")\n",
    "    # ax.set_title(f\"Relative difference in mean sampled {endf_tools.MT_to_label(MT_INT, short=True)} cross section\\nfrom {N_ITERATIONS} samples for F-19\")\n",
    "\n",
    "    # plt.legend()\n",
    "    # plt.tight_layout()\n",
    "\n",
    "    # plt.savefig(f\"{res_folder}/relative_mean_diff_sampled_cross_section_plot_{MT_STRING}.pdf\")\n",
    "\n",
    "\n",
    "\n",
    "\n",
    "    # Calculate the relative error and plot it for the two versions\n",
    "    # df_v1_std[\"rel\"] = df_v1_std[\"xs\"] / df_v1_mean[\"xs\"] * 100\n",
    "    df_v3_std[\"rel\"] = df_v3_std[\"xs\"] / df_v3_mean[\"xs\"] * 100\n",
    "\n",
    "    plt.clf()\n",
    "    plt.figure()\n",
    "    ax = plt.gca()\n",
    "\n",
    "    # sns.lineplot(data=df_v1_std, x=\"energy\", y=\"rel\", label=\"v1\")\n",
    "    sns.lineplot(data=df_v3_std, x=\"energy\", y=\"rel\", label=\"Sampled data\", linestyle=\"-.\")\n",
    "    plt.xscale(\"log\")\n",
    "    # plt.yscale(\"log\")\n",
    "\n",
    "    plt.axhline(0, color=\"tab:gray\", linestyle=\"dashed\", label=\"0 %\")\n",
    "    # plt.xlim(min(df_v1_std[\"energy\"]), max(df_v1_std[\"energy\"]))\n",
    "\n",
    "    ax.set_xlabel(\"$E_n$ [eV]\")\n",
    "    ax.set_ylabel(\"$R_{\\sigma}$ [%]\")\n",
    "    # ax.set_title(f\"Relative error, sampled {endf_tools.MT_to_label(MT_INT, short=True)} (MT{MT_INT}) cross section\\nfrom {N_ITERATIONS} samples for F-19\")\n",
    "    plt.xlim(1e-2, 1e7)\n",
    "    plt.legend()\n",
    "    plt.tight_layout()\n",
    "\n",
    "    plt.savefig(f\"{res_folder}/relative_error_cross_section_plot_{MT_STRING}.pdf\")\n",
    "    plt.savefig(f\"{res_folder}/relative_error_cross_section_plot_{MT_INT}.pdf\")\n",
    "\n",
    "\n"
   ]
  },
  {
   "cell_type": "code",
   "execution_count": null,
   "metadata": {},
   "outputs": [],
   "source": []
  }
 ],
 "metadata": {
  "kernelspec": {
   "display_name": "base",
   "language": "python",
   "name": "python3"
  },
  "language_info": {
   "codemirror_mode": {
    "name": "ipython",
    "version": 3
   },
   "file_extension": ".py",
   "mimetype": "text/x-python",
   "name": "python",
   "nbconvert_exporter": "python",
   "pygments_lexer": "ipython3",
   "version": "3.11.0"
  },
  "orig_nbformat": 4
 },
 "nbformat": 4,
 "nbformat_minor": 2
}
