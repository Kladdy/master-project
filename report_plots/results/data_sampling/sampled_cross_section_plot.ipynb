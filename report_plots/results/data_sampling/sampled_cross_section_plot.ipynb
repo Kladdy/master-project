{
 "cells": [
  {
   "cell_type": "code",
   "execution_count": 2,
   "metadata": {},
   "outputs": [],
   "source": [
    "\n",
    "import os\n",
    "import sys\n",
    "import subprocess\n",
    "# sys.path.insert(1, f\"{subprocess.Popen(['git', 'rev-parse', '--show-toplevel'], stdout=subprocess.PIPE).communicate()[0].rstrip().decode('utf-8')}/logistics/tools\")\n",
    "TOOLS_PATH = f\"{os.getenv('MASTER_PROJECT_ROOT_FOLDER')}/logistics\"\n",
    "sys.path.insert(0, TOOLS_PATH)\n",
    "from tools import run_tools, endf_tools\n",
    "import numpy as np\n",
    "# import openmc\n",
    "import h5py\n",
    "import matplotlib.pyplot as plt\n",
    "from tqdm import tqdm\n",
    "import pandas as pd\n",
    "import seaborn as sns\n",
    "# from tools import image_to_thesis\n",
    "# image_to_thesis.pull_from_thesis()\n"
   ]
  },
  {
   "cell_type": "code",
   "execution_count": 3,
   "metadata": {},
   "outputs": [
    {
     "name": "stdout",
     "output_type": "stream",
     "text": [
      "Running all MT\n",
      "\tReaction 002\n"
     ]
    },
    {
     "name": "stderr",
     "output_type": "stream",
     "text": [
      "  0%|          | 2/1000 [00:00<02:05,  7.98it/s]"
     ]
    },
    {
     "name": "stdout",
     "output_type": "stream",
     "text": [
      "min(energy_group) = 9.999999999999999e-06, max(energy_group) = 20000000.0\n",
      "min(energy_group) = 9.999999999999999e-06, max(energy_group) = 20000000.0\n",
      "min(energy_group) = 9.999999999999999e-06, max(energy_group) = 20000000.0\n"
     ]
    },
    {
     "name": "stderr",
     "output_type": "stream",
     "text": [
      "  0%|          | 5/1000 [00:00<01:51,  8.95it/s]"
     ]
    },
    {
     "name": "stdout",
     "output_type": "stream",
     "text": [
      "min(energy_group) = 9.999999999999999e-06, max(energy_group) = 20000000.0\n",
      "min(energy_group) = 9.999999999999999e-06, max(energy_group) = 20000000.0\n"
     ]
    },
    {
     "name": "stderr",
     "output_type": "stream",
     "text": [
      "  1%|          | 7/1000 [00:00<02:11,  7.54it/s]"
     ]
    },
    {
     "name": "stdout",
     "output_type": "stream",
     "text": [
      "min(energy_group) = 9.999999999999999e-06, max(energy_group) = 20000000.0\n",
      "min(energy_group) = 9.999999999999999e-06, max(energy_group) = 20000000.0\n"
     ]
    },
    {
     "name": "stderr",
     "output_type": "stream",
     "text": [
      "  1%|          | 9/1000 [00:01<01:59,  8.29it/s]"
     ]
    },
    {
     "name": "stdout",
     "output_type": "stream",
     "text": [
      "min(energy_group) = 9.999999999999999e-06, max(energy_group) = 20000000.0\n",
      "min(energy_group) = 9.999999999999999e-06, max(energy_group) = 20000000.0\n"
     ]
    },
    {
     "name": "stderr",
     "output_type": "stream",
     "text": [
      "  1%|          | 12/1000 [00:01<01:39,  9.96it/s]"
     ]
    },
    {
     "name": "stdout",
     "output_type": "stream",
     "text": [
      "min(energy_group) = 9.999999999999999e-06, max(energy_group) = 20000000.0\n",
      "min(energy_group) = 9.999999999999999e-06, max(energy_group) = 20000000.0\n",
      "min(energy_group) = 9.999999999999999e-06, max(energy_group) = 20000000.0\n"
     ]
    },
    {
     "name": "stderr",
     "output_type": "stream",
     "text": [
      "  1%|▏         | 14/1000 [00:01<01:42,  9.65it/s]"
     ]
    },
    {
     "name": "stdout",
     "output_type": "stream",
     "text": [
      "min(energy_group) = 9.999999999999999e-06, max(energy_group) = 20000000.0\n",
      "min(energy_group) = 9.999999999999999e-06, max(energy_group) = 20000000.0\n"
     ]
    },
    {
     "name": "stderr",
     "output_type": "stream",
     "text": [
      "  2%|▏         | 16/1000 [00:01<01:50,  8.90it/s]"
     ]
    },
    {
     "name": "stdout",
     "output_type": "stream",
     "text": [
      "min(energy_group) = 9.999999999999999e-06, max(energy_group) = 20000000.0\n",
      "min(energy_group) = 9.999999999999999e-06, max(energy_group) = 20000000.0\n"
     ]
    },
    {
     "name": "stderr",
     "output_type": "stream",
     "text": [
      "  2%|▏         | 18/1000 [00:02<01:43,  9.49it/s]"
     ]
    },
    {
     "name": "stdout",
     "output_type": "stream",
     "text": [
      "min(energy_group) = 9.999999999999999e-06, max(energy_group) = 20000000.0\n",
      "min(energy_group) = 9.999999999999999e-06, max(energy_group) = 20000000.0\n",
      "min(energy_group) = 9.999999999999999e-06, max(energy_group) = 20000000.0\n"
     ]
    },
    {
     "name": "stderr",
     "output_type": "stream",
     "text": [
      "  2%|▏         | 22/1000 [00:02<01:33, 10.43it/s]"
     ]
    },
    {
     "name": "stdout",
     "output_type": "stream",
     "text": [
      "min(energy_group) = 9.999999999999999e-06, max(energy_group) = 20000000.0\n",
      "min(energy_group) = 9.999999999999999e-06, max(energy_group) = 20000000.0\n",
      "min(energy_group) = 9.999999999999999e-06, max(energy_group) = 20000000.0\n"
     ]
    },
    {
     "name": "stderr",
     "output_type": "stream",
     "text": [
      "  2%|▏         | 24/1000 [00:02<01:32, 10.56it/s]"
     ]
    },
    {
     "name": "stdout",
     "output_type": "stream",
     "text": [
      "min(energy_group) = 9.999999999999999e-06, max(energy_group) = 20000000.0\n",
      "min(energy_group) = 9.999999999999999e-06, max(energy_group) = 20000000.0\n",
      "min(energy_group) = 9.999999999999999e-06, max(energy_group) = 20000000.0\n"
     ]
    },
    {
     "name": "stderr",
     "output_type": "stream",
     "text": [
      "  3%|▎         | 28/1000 [00:02<01:32, 10.47it/s]"
     ]
    },
    {
     "name": "stdout",
     "output_type": "stream",
     "text": [
      "min(energy_group) = 9.999999999999999e-06, max(energy_group) = 20000000.0\n",
      "min(energy_group) = 9.999999999999999e-06, max(energy_group) = 20000000.0\n",
      "min(energy_group) = 9.999999999999999e-06, max(energy_group) = 20000000.0\n"
     ]
    },
    {
     "name": "stderr",
     "output_type": "stream",
     "text": [
      "  3%|▎         | 30/1000 [00:03<01:27, 11.10it/s]"
     ]
    },
    {
     "name": "stdout",
     "output_type": "stream",
     "text": [
      "min(energy_group) = 9.999999999999999e-06, max(energy_group) = 20000000.0\n",
      "min(energy_group) = 9.999999999999999e-06, max(energy_group) = 20000000.0\n",
      "min(energy_group) = 9.999999999999999e-06, max(energy_group) = 20000000.0\n"
     ]
    },
    {
     "name": "stderr",
     "output_type": "stream",
     "text": [
      "  3%|▎         | 34/1000 [00:03<01:32, 10.46it/s]"
     ]
    },
    {
     "name": "stdout",
     "output_type": "stream",
     "text": [
      "min(energy_group) = 9.999999999999999e-06, max(energy_group) = 20000000.0\n",
      "min(energy_group) = 9.999999999999999e-06, max(energy_group) = 20000000.0\n",
      "min(energy_group) = 9.999999999999999e-06, max(energy_group) = 20000000.0\n"
     ]
    },
    {
     "name": "stderr",
     "output_type": "stream",
     "text": [
      "  4%|▎         | 36/1000 [00:03<01:30, 10.68it/s]"
     ]
    },
    {
     "name": "stdout",
     "output_type": "stream",
     "text": [
      "min(energy_group) = 9.999999999999999e-06, max(energy_group) = 20000000.0\n",
      "min(energy_group) = 9.999999999999999e-06, max(energy_group) = 20000000.0\n"
     ]
    },
    {
     "name": "stderr",
     "output_type": "stream",
     "text": [
      "  4%|▍         | 38/1000 [00:03<01:39,  9.69it/s]"
     ]
    },
    {
     "name": "stdout",
     "output_type": "stream",
     "text": [
      "min(energy_group) = 9.999999999999999e-06, max(energy_group) = 20000000.0\n",
      "min(energy_group) = 9.999999999999999e-06, max(energy_group) = 20000000.0\n",
      "min(energy_group) = 9.999999999999999e-06, max(energy_group) = 20000000.0\n"
     ]
    },
    {
     "name": "stderr",
     "output_type": "stream",
     "text": [
      "  4%|▍         | 41/1000 [00:04<01:47,  8.92it/s]"
     ]
    },
    {
     "name": "stdout",
     "output_type": "stream",
     "text": [
      "min(energy_group) = 9.999999999999999e-06, max(energy_group) = 20000000.0\n",
      "min(energy_group) = 9.999999999999999e-06, max(energy_group) = 20000000.0\n"
     ]
    },
    {
     "name": "stderr",
     "output_type": "stream",
     "text": [
      "  4%|▍         | 44/1000 [00:04<01:36,  9.93it/s]"
     ]
    },
    {
     "name": "stdout",
     "output_type": "stream",
     "text": [
      "min(energy_group) = 9.999999999999999e-06, max(energy_group) = 20000000.0\n",
      "min(energy_group) = 9.999999999999999e-06, max(energy_group) = 20000000.0\n",
      "min(energy_group) = 9.999999999999999e-06, max(energy_group) = 20000000.0\n"
     ]
    },
    {
     "name": "stderr",
     "output_type": "stream",
     "text": [
      "  5%|▍         | 46/1000 [00:04<01:30, 10.54it/s]"
     ]
    },
    {
     "name": "stdout",
     "output_type": "stream",
     "text": [
      "min(energy_group) = 9.999999999999999e-06, max(energy_group) = 20000000.0\n",
      "min(energy_group) = 9.999999999999999e-06, max(energy_group) = 20000000.0\n"
     ]
    },
    {
     "name": "stderr",
     "output_type": "stream",
     "text": [
      "  5%|▍         | 48/1000 [00:05<03:10,  5.01it/s]"
     ]
    },
    {
     "name": "stdout",
     "output_type": "stream",
     "text": [
      "min(energy_group) = 9.999999999999999e-06, max(energy_group) = 20000000.0\n",
      "min(energy_group) = 9.999999999999999e-06, max(energy_group) = 20000000.0\n"
     ]
    },
    {
     "name": "stderr",
     "output_type": "stream",
     "text": [
      "  5%|▌         | 50/1000 [00:05<02:44,  5.78it/s]"
     ]
    },
    {
     "name": "stdout",
     "output_type": "stream",
     "text": [
      "min(energy_group) = 9.999999999999999e-06, max(energy_group) = 20000000.0\n",
      "min(energy_group) = 9.999999999999999e-06, max(energy_group) = 20000000.0\n"
     ]
    },
    {
     "name": "stderr",
     "output_type": "stream",
     "text": [
      "  5%|▌         | 53/1000 [00:06<02:03,  7.69it/s]"
     ]
    },
    {
     "name": "stdout",
     "output_type": "stream",
     "text": [
      "min(energy_group) = 9.999999999999999e-06, max(energy_group) = 20000000.0\n",
      "min(energy_group) = 9.999999999999999e-06, max(energy_group) = 20000000.0\n",
      "min(energy_group) = 9.999999999999999e-06, max(energy_group) = 20000000.0\n"
     ]
    },
    {
     "name": "stderr",
     "output_type": "stream",
     "text": [
      "  6%|▌         | 55/1000 [00:06<01:50,  8.55it/s]"
     ]
    },
    {
     "name": "stdout",
     "output_type": "stream",
     "text": [
      "min(energy_group) = 9.999999999999999e-06, max(energy_group) = 20000000.0\n",
      "min(energy_group) = 9.999999999999999e-06, max(energy_group) = 20000000.0\n",
      "min(energy_group) = 9.999999999999999e-06, max(energy_group) = 20000000.0\n"
     ]
    },
    {
     "name": "stderr",
     "output_type": "stream",
     "text": [
      "  6%|▌         | 59/1000 [00:06<01:31, 10.24it/s]"
     ]
    },
    {
     "name": "stdout",
     "output_type": "stream",
     "text": [
      "min(energy_group) = 9.999999999999999e-06, max(energy_group) = 20000000.0\n",
      "min(energy_group) = 9.999999999999999e-06, max(energy_group) = 20000000.0\n",
      "min(energy_group) = 9.999999999999999e-06, max(energy_group) = 20000000.0\n"
     ]
    },
    {
     "name": "stderr",
     "output_type": "stream",
     "text": [
      "  6%|▌         | 61/1000 [00:06<01:41,  9.22it/s]"
     ]
    },
    {
     "name": "stdout",
     "output_type": "stream",
     "text": [
      "min(energy_group) = 9.999999999999999e-06, max(energy_group) = 20000000.0\n",
      "min(energy_group) = 9.999999999999999e-06, max(energy_group) = 20000000.0\n"
     ]
    },
    {
     "name": "stderr",
     "output_type": "stream",
     "text": [
      "  6%|▋         | 63/1000 [00:07<01:35,  9.77it/s]"
     ]
    },
    {
     "name": "stdout",
     "output_type": "stream",
     "text": [
      "min(energy_group) = 9.999999999999999e-06, max(energy_group) = 20000000.0\n",
      "min(energy_group) = 9.999999999999999e-06, max(energy_group) = 20000000.0\n",
      "min(energy_group) = 9.999999999999999e-06, max(energy_group) = 20000000.0\n"
     ]
    },
    {
     "name": "stderr",
     "output_type": "stream",
     "text": [
      "  6%|▋         | 65/1000 [00:07<01:33, 10.05it/s]"
     ]
    },
    {
     "name": "stdout",
     "output_type": "stream",
     "text": [
      "min(energy_group) = 9.999999999999999e-06, max(energy_group) = 20000000.0\n",
      "min(energy_group) = 9.999999999999999e-06, max(energy_group) = 20000000.0\n"
     ]
    },
    {
     "name": "stderr",
     "output_type": "stream",
     "text": [
      "  7%|▋         | 68/1000 [00:07<01:48,  8.63it/s]"
     ]
    },
    {
     "name": "stdout",
     "output_type": "stream",
     "text": [
      "min(energy_group) = 9.999999999999999e-06, max(energy_group) = 20000000.0\n",
      "min(energy_group) = 9.999999999999999e-06, max(energy_group) = 20000000.0\n"
     ]
    },
    {
     "name": "stderr",
     "output_type": "stream",
     "text": [
      "  7%|▋         | 71/1000 [00:07<01:38,  9.38it/s]"
     ]
    },
    {
     "name": "stdout",
     "output_type": "stream",
     "text": [
      "min(energy_group) = 9.999999999999999e-06, max(energy_group) = 20000000.0\n",
      "min(energy_group) = 9.999999999999999e-06, max(energy_group) = 20000000.0\n",
      "min(energy_group) = 9.999999999999999e-06, max(energy_group) = 20000000.0\n"
     ]
    },
    {
     "name": "stderr",
     "output_type": "stream",
     "text": [
      "  7%|▋         | 73/1000 [00:08<01:44,  8.88it/s]"
     ]
    },
    {
     "name": "stdout",
     "output_type": "stream",
     "text": [
      "min(energy_group) = 9.999999999999999e-06, max(energy_group) = 20000000.0\n",
      "min(energy_group) = 9.999999999999999e-06, max(energy_group) = 20000000.0\n"
     ]
    },
    {
     "name": "stderr",
     "output_type": "stream",
     "text": [
      "  8%|▊         | 75/1000 [00:08<01:52,  8.25it/s]"
     ]
    },
    {
     "name": "stdout",
     "output_type": "stream",
     "text": [
      "min(energy_group) = 9.999999999999999e-06, max(energy_group) = 20000000.0\n",
      "min(energy_group) = 9.999999999999999e-06, max(energy_group) = 20000000.0\n"
     ]
    },
    {
     "name": "stderr",
     "output_type": "stream",
     "text": [
      "  8%|▊         | 78/1000 [00:08<01:38,  9.37it/s]"
     ]
    },
    {
     "name": "stdout",
     "output_type": "stream",
     "text": [
      "min(energy_group) = 9.999999999999999e-06, max(energy_group) = 20000000.0\n",
      "min(energy_group) = 9.999999999999999e-06, max(energy_group) = 20000000.0\n",
      "min(energy_group) = 9.999999999999999e-06, max(energy_group) = 20000000.0\n"
     ]
    },
    {
     "name": "stderr",
     "output_type": "stream",
     "text": [
      "  8%|▊         | 80/1000 [00:08<01:31, 10.09it/s]"
     ]
    },
    {
     "name": "stdout",
     "output_type": "stream",
     "text": [
      "min(energy_group) = 9.999999999999999e-06, max(energy_group) = 20000000.0\n",
      "min(energy_group) = 9.999999999999999e-06, max(energy_group) = 20000000.0\n",
      "min(energy_group) = 9.999999999999999e-06, max(energy_group) = 20000000.0\n"
     ]
    },
    {
     "name": "stderr",
     "output_type": "stream",
     "text": [
      "  8%|▊         | 84/1000 [00:09<01:24, 10.89it/s]"
     ]
    },
    {
     "name": "stdout",
     "output_type": "stream",
     "text": [
      "min(energy_group) = 9.999999999999999e-06, max(energy_group) = 20000000.0\n",
      "min(energy_group) = 9.999999999999999e-06, max(energy_group) = 20000000.0\n",
      "min(energy_group) = 9.999999999999999e-06, max(energy_group) = 20000000.0\n"
     ]
    },
    {
     "name": "stderr",
     "output_type": "stream",
     "text": [
      "  9%|▊         | 86/1000 [00:09<01:24, 10.76it/s]"
     ]
    },
    {
     "name": "stdout",
     "output_type": "stream",
     "text": [
      "min(energy_group) = 9.999999999999999e-06, max(energy_group) = 20000000.0\n",
      "min(energy_group) = 9.999999999999999e-06, max(energy_group) = 20000000.0\n",
      "min(energy_group) = 9.999999999999999e-06, max(energy_group) = 20000000.0\n"
     ]
    },
    {
     "name": "stderr",
     "output_type": "stream",
     "text": [
      "  9%|▉         | 90/1000 [00:09<01:18, 11.63it/s]"
     ]
    },
    {
     "name": "stdout",
     "output_type": "stream",
     "text": [
      "min(energy_group) = 9.999999999999999e-06, max(energy_group) = 20000000.0\n",
      "min(energy_group) = 9.999999999999999e-06, max(energy_group) = 20000000.0\n",
      "min(energy_group) = 9.999999999999999e-06, max(energy_group) = 20000000.0\n"
     ]
    },
    {
     "name": "stderr",
     "output_type": "stream",
     "text": [
      "  9%|▉         | 92/1000 [00:09<01:17, 11.67it/s]"
     ]
    },
    {
     "name": "stdout",
     "output_type": "stream",
     "text": [
      "min(energy_group) = 9.999999999999999e-06, max(energy_group) = 20000000.0\n",
      "min(energy_group) = 9.999999999999999e-06, max(energy_group) = 20000000.0\n",
      "min(energy_group) = 9.999999999999999e-06, max(energy_group) = 20000000.0\n"
     ]
    },
    {
     "name": "stderr",
     "output_type": "stream",
     "text": [
      " 10%|▉         | 96/1000 [00:10<01:15, 11.92it/s]"
     ]
    },
    {
     "name": "stdout",
     "output_type": "stream",
     "text": [
      "min(energy_group) = 9.999999999999999e-06, max(energy_group) = 20000000.0\n",
      "min(energy_group) = 9.999999999999999e-06, max(energy_group) = 20000000.0\n",
      "min(energy_group) = 9.999999999999999e-06, max(energy_group) = 20000000.0\n"
     ]
    },
    {
     "name": "stderr",
     "output_type": "stream",
     "text": [
      " 10%|▉         | 98/1000 [00:10<01:18, 11.48it/s]"
     ]
    },
    {
     "name": "stdout",
     "output_type": "stream",
     "text": [
      "min(energy_group) = 9.999999999999999e-06, max(energy_group) = 20000000.0\n",
      "min(energy_group) = 9.999999999999999e-06, max(energy_group) = 20000000.0\n"
     ]
    },
    {
     "name": "stderr",
     "output_type": "stream",
     "text": [
      " 10%|█         | 100/1000 [00:10<01:31,  9.84it/s]"
     ]
    },
    {
     "name": "stdout",
     "output_type": "stream",
     "text": [
      "min(energy_group) = 9.999999999999999e-06, max(energy_group) = 20000000.0\n",
      "min(energy_group) = 9.999999999999999e-06, max(energy_group) = 20000000.0\n"
     ]
    },
    {
     "name": "stderr",
     "output_type": "stream",
     "text": [
      " 10%|█         | 101/1000 [00:10<01:36,  9.28it/s]\n"
     ]
    },
    {
     "name": "stdout",
     "output_type": "stream",
     "text": [
      "min(energy_group) = 9.999999999999999e-06, max(energy_group) = 20000000.0\n"
     ]
    },
    {
     "ename": "KeyboardInterrupt",
     "evalue": "",
     "output_type": "error",
     "traceback": [
      "\u001b[0;31m---------------------------------------------------------------------------\u001b[0m",
      "\u001b[0;31mKeyboardInterrupt\u001b[0m                         Traceback (most recent call last)",
      "Cell \u001b[0;32mIn[3], line 59\u001b[0m\n\u001b[1;32m     57\u001b[0m h5file \u001b[39m=\u001b[39m h5py\u001b[39m.\u001b[39mFile(h5_filename, \u001b[39m'\u001b[39m\u001b[39mr\u001b[39m\u001b[39m'\u001b[39m)\n\u001b[1;32m     58\u001b[0m energy_group \u001b[39m=\u001b[39m h5file[\u001b[39mf\u001b[39m\u001b[39m'\u001b[39m\u001b[39mF19/energy/\u001b[39m\u001b[39m{\u001b[39;00mTEMPERATURE\u001b[39m}\u001b[39;00m\u001b[39mK\u001b[39m\u001b[39m'\u001b[39m]\n\u001b[0;32m---> 59\u001b[0m reactions_group \u001b[39m=\u001b[39m h5file[\u001b[39mf\u001b[39;49m\u001b[39m'\u001b[39;49m\u001b[39mF19/reactions\u001b[39;49m\u001b[39m'\u001b[39;49m]\n\u001b[1;32m     60\u001b[0m \u001b[39m# for name, obj in sorted(list(main_group.items()))[:10]:\u001b[39;00m\n\u001b[1;32m     61\u001b[0m \u001b[39m#     if 'reaction_' in name:\u001b[39;00m\n\u001b[1;32m     62\u001b[0m \u001b[39m#         print('{}, {}'.format(name, obj.attrs['label'].decode()))\u001b[39;00m\n\u001b[1;32m     64\u001b[0m n_elastic_xs_group \u001b[39m=\u001b[39m reactions_group[\u001b[39mf\u001b[39m\u001b[39m'\u001b[39m\u001b[39mreaction_\u001b[39m\u001b[39m{\u001b[39;00mREACTION\u001b[39m}\u001b[39;00m\u001b[39m/\u001b[39m\u001b[39m{\u001b[39;00mTEMPERATURE\u001b[39m}\u001b[39;00m\u001b[39mK/xs\u001b[39m\u001b[39m'\u001b[39m]\n",
      "File \u001b[0;32mh5py/_objects.pyx:54\u001b[0m, in \u001b[0;36mh5py._objects.with_phil.wrapper\u001b[0;34m()\u001b[0m\n",
      "File \u001b[0;32mh5py/_objects.pyx:55\u001b[0m, in \u001b[0;36mh5py._objects.with_phil.wrapper\u001b[0;34m()\u001b[0m\n",
      "File \u001b[0;32m~/miniconda3/envs/openmc-env/lib/python3.11/site-packages/h5py/_hl/group.py:348\u001b[0m, in \u001b[0;36mGroup.__getitem__\u001b[0;34m(self, name)\u001b[0m\n\u001b[1;32m    345\u001b[0m             \u001b[39mraise\u001b[39;00m \u001b[39mTypeError\u001b[39;00m(\u001b[39m\"\u001b[39m\u001b[39mIncompatible object (\u001b[39m\u001b[39m%s\u001b[39;00m\u001b[39m) already exists\u001b[39m\u001b[39m\"\u001b[39m \u001b[39m%\u001b[39m grp\u001b[39m.\u001b[39m\u001b[39m__class__\u001b[39m\u001b[39m.\u001b[39m\u001b[39m__name__\u001b[39m)\n\u001b[1;32m    346\u001b[0m         \u001b[39mreturn\u001b[39;00m grp\n\u001b[0;32m--> 348\u001b[0m \u001b[39m@with_phil\u001b[39m\n\u001b[1;32m    349\u001b[0m \u001b[39mdef\u001b[39;00m \u001b[39m__getitem__\u001b[39m(\u001b[39mself\u001b[39m, name):\n\u001b[1;32m    350\u001b[0m \u001b[39m    \u001b[39m\u001b[39m\"\"\" Open an object in the file \"\"\"\u001b[39;00m\n\u001b[1;32m    352\u001b[0m     \u001b[39mif\u001b[39;00m \u001b[39misinstance\u001b[39m(name, h5r\u001b[39m.\u001b[39mReference):\n",
      "\u001b[0;31mKeyboardInterrupt\u001b[0m: "
     ]
    },
    {
     "data": {
      "text/plain": [
       "<Figure size 640x480 with 0 Axes>"
      ]
     },
     "metadata": {},
     "output_type": "display_data"
    },
    {
     "data": {
      "text/plain": [
       "<Figure size 640x480 with 0 Axes>"
      ]
     },
     "metadata": {},
     "output_type": "display_data"
    },
    {
     "data": {
      "image/png": "[encoded data removed]",
      "text/plain": [
       "<Figure size 640x480 with 1 Axes>"
      ]
     },
     "metadata": {},
     "output_type": "display_data"
    }
   ],
   "source": [
    "# VERSION = \"v1\"\n",
    "VERSION = \"v3\"\n",
    "# VERSION = \"v3-TEST\"\n",
    "N_ITERATIONS = 1000\n",
    "\n",
    "for MT in [None, 2, 4, 16, 22, 28, 102, 103, 104, 105, 107]:\n",
    "# for MT in [4]:\n",
    "    \n",
    "    if MT is None:\n",
    "        print(\"Running all MT\")\n",
    "        res_folder = f\"{VERSION}/ALL\"\n",
    "        MT_SUFFIX = \"\"\n",
    "    else:\n",
    "        print(f\"Running MT{MT}\")\n",
    "        res_folder = f\"{VERSION}/MT{MT}\"\n",
    "        MT_SUFFIX = f\"-MT{MT}\"\n",
    "    \n",
    "    # os.system(f\"rm -rf {res_folder}\")\n",
    "    # os.makedirs(res_folder, exist_ok=True)\n",
    "\n",
    "    for REACTION_INT in [2, 16, 22, 28, 51, 52, 53, 54, 91, 102, 103, 104, 105, 107]:\n",
    "        # REACTION_INT = int(REACTION)\n",
    "        REACTION = f\"{REACTION_INT:03d}\"\n",
    "        print(f\"\\tReaction {REACTION}\")\n",
    "\n",
    "        plt.clf()\n",
    "        plt.figure()\n",
    "\n",
    "        if VERSION == \"v1\":\n",
    "            sampled_h5_files_path = \"/home/fne23_stjarnholm/nuclear_data/sandy_samples_v1/hdf5/F19\"\n",
    "            if MT is not None: raise NotImplementedError(\"No MT files exist for v1\")\n",
    "        elif VERSION == \"v2\":\n",
    "            sampled_h5_files_path = \"/home/fne23_stjarnholm/nuclear_data/sandy_samples_v2\"\n",
    "            if MT is not None: raise NotImplementedError(\"No MT files exist for v1\")\n",
    "        elif VERSION == \"v3\":\n",
    "            sampled_h5_files_path = \"/home/fne23_stjarnholm/nuclear_data/sandy_samples_v3\"\n",
    "        elif VERSION == \"v3-TEST\":\n",
    "            sampled_h5_files_path = \"/home/fne23_stjarnholm/nuclear_data/sandy_samples_v3-TEST\"\n",
    "        \n",
    "        if MT is not None:\n",
    "            sampled_h5_files_path = f\"{sampled_h5_files_path}-MT{MT}\"\n",
    "\n",
    "        fig = plt.figure()\n",
    "        ax = fig.gca()\n",
    "\n",
    "        TEMPERATURE = 900 # K\n",
    "\n",
    "        x_logspace = np.logspace(np.log10(1e-5), np.log10(2e7), 1000)\n",
    "\n",
    "        df = pd.DataFrame(columns=[\"energy\", \"xs\"])\n",
    "\n",
    "        \n",
    "        # for i in tqdm(range(N_ITERATIONS)):\n",
    "        for i in tqdm(range(N_ITERATIONS)):\n",
    "            h5_filename = f\"{sampled_h5_files_path}/F19-{i+1}.h5\"\n",
    "\n",
    "            h5file = h5py.File(h5_filename, 'r')\n",
    "            energy_group = h5file[f'F19/energy/{TEMPERATURE}K']\n",
    "            reactions_group = h5file[f'F19/reactions']\n",
    "            # for name, obj in sorted(list(main_group.items()))[:10]:\n",
    "            #     if 'reaction_' in name:\n",
    "            #         print('{}, {}'.format(name, obj.attrs['label'].decode()))\n",
    "\n",
    "            n_elastic_xs_group = reactions_group[f'reaction_{REACTION}/{TEMPERATURE}K/xs']\n",
    "            # print(list(n_elastic_group.values()))\n",
    "\n",
    "            # Extract the cross section and energy data\n",
    "            xs = n_elastic_xs_group[:]\n",
    "            if len(xs) != len(energy_group[:]):\n",
    "                energy = energy_group[-len(xs):]\n",
    "            else:\n",
    "                energy = energy_group[:]\n",
    "            \n",
    "\n",
    "            # print(energy.shape)\n",
    "            # print(xs.shape)\n",
    "\n",
    "            # Interpolate the cross section to the desired energy grid\n",
    "            xs = np.interp(x_logspace, energy, xs)\n",
    "            energy = x_logspace\n",
    "\n",
    "            df = pd.concat([df, pd.DataFrame({\"energy\": energy, \"xs\": xs})], ignore_index=True)\n",
    "\n",
    "            # F19_reconstructed = openmc.data.IncidentNeutron.from_hdf5(h5_filename)\n",
    "\n",
    "            # Plot the sampled cross section\n",
    "            # ax.loglog(energy, xs, label=\"Sampled\")\n",
    "            ax.loglog(energy, xs, label=\"Sampled\", color=\"darkgrey\", linewidth=0.1)\n",
    "\n",
    "        ax.set_xlabel(\"Energy [eV]\")\n",
    "        ax.set_ylabel(\"Cross section [b]\")\n",
    "        ax.set_title(f\"Sampled {endf_tools.MT_to_label(REACTION_INT, short=True)} cross section from {N_ITERATIONS} samples for F-19\")\n",
    "\n",
    "        plt.savefig(f\"{res_folder}/sampled_cross_section_plot_{VERSION}_{REACTION}{MT_SUFFIX}.png\", dpi=300)\n",
    "            \n",
    "        plt.clf()\n",
    "        plt.figure()\n",
    "        ax = plt.gca()\n",
    "\n",
    "        sns.lineplot(data=df, x=\"energy\", y=\"xs\", errorbar=('pi', 100), linewidth=0, label='_nolegend_')\n",
    "        sns.lineplot(data=df, x=\"energy\", y=\"xs\", errorbar=('pi', 50), linewidth=0, label=\"_nolegend_\")\n",
    "        sns.lineplot(data=df, x=\"energy\", y=\"xs\", errorbar=None, linewidth=0.5, label=\"\")\n",
    "        plt.xscale(\"log\")\n",
    "        plt.yscale(\"log\")\n",
    "\n",
    "        ax.set_xlabel(\"Energy [eV]\")\n",
    "        ax.set_ylabel(\"Cross section [b]\")\n",
    "        ax.set_title(f\"Sampled {endf_tools.MT_to_label(REACTION_INT, short=True)} cross section from {N_ITERATIONS} samples for F-19\")\n",
    "        # plt.legend(['Mean', '50 % percentile interval', '90 % percentile interval', '100 % percentile interval'])\n",
    "        plt.legend(['100 % percentile interval', '50 % percentile interval', 'Mean'])\n",
    "        plt.tight_layout()\n",
    "\n",
    "        plt.savefig(f\"{res_folder}/errorbands_sampled_cross_section_plot_{VERSION}_{REACTION}{MT_SUFFIX}.pdf\")\n",
    "\n",
    "        plt.close('all')"
   ]
  },
  {
   "cell_type": "code",
   "execution_count": null,
   "metadata": {},
   "outputs": [],
   "source": []
  }
 ],
 "metadata": {
  "kernelspec": {
   "display_name": "base",
   "language": "python",
   "name": "python3"
  },
  "language_info": {
   "codemirror_mode": {
    "name": "ipython",
    "version": 3
   },
   "file_extension": ".py",
   "mimetype": "text/x-python",
   "name": "python",
   "nbconvert_exporter": "python",
   "pygments_lexer": "ipython3",
   "version": "3.11.0"
  },
  "orig_nbformat": 4,
  "vscode": {
   "interpreter": {
    "hash": "1cb9033f389f17e4033a99e410ec1477ee7bf114a4544f2b4b6a06a276807858"
   }
  }
 },
 "nbformat": 4,
 "nbformat_minor": 2
}
