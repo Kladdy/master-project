{
 "cells": [
  {
   "cell_type": "code",
   "execution_count": 3,
   "metadata": {},
   "outputs": [
    {
     "name": "stdout",
     "output_type": "stream",
     "text": [
      "pull_from_thesis: Pulling from master-thesis repository\n",
      "pull_from_thesis: Done\n"
     ]
    }
   ],
   "source": [
    "# IMPORT TOOLS\n",
    "import sys\n",
    "import subprocess\n",
    "import os\n",
    "# sys.path.insert(1, f\"{subprocess.Popen(['git', 'rev-parse', '--show-toplevel'], stdout=subprocess.PIPE).communicate()[0].rstrip().decode('utf-8')}/logistics/tools\")\n",
    "TOOLS_PATH = f\"{os.getenv('MASTER_PROJECT_ROOT_FOLDER')}/logistics\"\n",
    "sys.path.insert(0, TOOLS_PATH)\n",
    "from tools  import image_to_thesis\n",
    "image_to_thesis.pull_from_thesis()\n",
    "# ------------"
   ]
  },
  {
   "cell_type": "code",
   "execution_count": 25,
   "metadata": {},
   "outputs": [
    {
     "name": "stdout",
     "output_type": "stream",
     "text": [
      "save: Saving neutron_yields.pdf to theory\n",
      "pull_from_thesis: Pulling from master-thesis repository\n",
      "pull_from_thesis: Done\n",
      "push_to_thesis: Pushing to master-thesis repository\n",
      "push_to_thesis: Done\n"
     ]
    },
    {
     "data": {
      "image/png": "[encoded data removed]",
      "text/plain": [
       "<Figure size 432x288 with 1 Axes>"
      ]
     },
     "metadata": {
      "needs_background": "light"
     },
     "output_type": "display_data"
    }
   ],
   "source": [
    "import matplotlib.pyplot as plt\n",
    "import numpy as np\n",
    "import pandas as pd\n",
    "import h5py\n",
    "\n",
    "h5_files_path = \"/Users/sigge/jeff-3.3-hdf5\"\n",
    "\n",
    "fig = plt.figure()\n",
    "ax = fig.gca()\n",
    "\n",
    "TEMPERATURE = 900 # K\n",
    "\n",
    "# x_logspace = np.logspace(np.log10(1e-5), np.log10(2e7), 1000)\n",
    "\n",
    "for nuclide_label in ['U-235', 'U-238', 'Pu-239']:\n",
    "    nuclide = nuclide_label.replace('-', '')\n",
    "\n",
    "    h5_filename = f\"{h5_files_path}/{nuclide}.h5\"\n",
    "\n",
    "    h5file = h5py.File(h5_filename, 'r')\n",
    "    # energy_group = h5file[f'U235/energy/{TEMPERATURE}K']\n",
    "    reactions_group = h5file[f'{nuclide}/reactions']\n",
    "    # for name, obj in sorted(list(main_group.items()))[:10]:\n",
    "    #     if 'reaction_' in name:\n",
    "    #         print('{}, {}'.format(name, obj.attrs['label'].decode()))\n",
    "\n",
    "    n_yield = reactions_group[f'reaction_018/product_0/yield']\n",
    "    # print(list(n_elastic_group.values()))\n",
    "\n",
    "    # Extract the yield and energy data\n",
    "    energy = n_yield[0,:]\n",
    "    yield_ = n_yield[1,:]\n",
    "\n",
    "    plt.semilogx(energy, yield_, label=nuclide_label)\n",
    "\n",
    "plt.xlabel('$E_n$ [eV]')\n",
    "plt.ylabel(r'Average neutron yield $\\bar{\\nu}$')\n",
    "plt.grid()\n",
    "plt.legend()\n",
    "plt.xlim(1e-5, 2e7)\n",
    "plt.ylim(2, 5)\n",
    "plt.tight_layout()\n",
    "\n",
    "plt.savefig(\"neutron_yields.pdf\")\n",
    "\n",
    "image_to_thesis.save(plt, image_to_thesis.ThesisSection.THEORY, \"neutron_yields.pdf\")\n",
    "\n",
    "plt.show()"
   ]
  },
  {
   "cell_type": "code",
   "execution_count": null,
   "metadata": {},
   "outputs": [],
   "source": []
  }
 ],
 "metadata": {
  "kernelspec": {
   "display_name": "base",
   "language": "python",
   "name": "python3"
  },
  "language_info": {
   "codemirror_mode": {
    "name": "ipython",
    "version": 3
   },
   "file_extension": ".py",
   "mimetype": "text/x-python",
   "name": "python",
   "nbconvert_exporter": "python",
   "pygments_lexer": "ipython3",
   "version": "3.9.7"
  },
  "orig_nbformat": 4,
  "vscode": {
   "interpreter": {
    "hash": "63f76679f2d7a87017a770968b0c84eaee4b7e5784b5d2dcda1f30bf18e595f3"
   }
  }
 },
 "nbformat": 4,
 "nbformat_minor": 2
}
