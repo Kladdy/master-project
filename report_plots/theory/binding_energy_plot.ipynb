{
 "cells": [
  {
   "cell_type": "code",
   "execution_count": 20,
   "metadata": {},
   "outputs": [
    {
     "name": "stdout",
     "output_type": "stream",
     "text": [
      "pull_from_thesis: Pulling from master-thesis repository\n",
      "pull_from_thesis: Done\n"
     ]
    }
   ],
   "source": [
    "# IMPORT TOOLS\n",
    "import sys\n",
    "import subprocess\n",
    "# sys.path.insert(1, f\"{subprocess.Popen(['git', 'rev-parse', '--show-toplevel'], stdout=subprocess.PIPE).communicate()[0].rstrip().decode('utf-8')}/logistics/tools\")\n",
    "sys.path.insert(0, \"/Users/sigge/GitHub/master-project/logistics\")\n",
    "from tools import run_tools\n",
    "from tools  import image_to_thesis\n",
    "image_to_thesis.pull_from_thesis()\n",
    "# ------------"
   ]
  },
  {
   "cell_type": "code",
   "execution_count": 21,
   "metadata": {},
   "outputs": [
    {
     "name": "stdout",
     "output_type": "stream",
     "text": [
      "8\n",
      "{'eps': 8.794552420197085, 'A': 62, 'Z': 28}\n",
      "save: Saving binding_energy_vs_Z.pdf to theory\n",
      "pull_from_thesis: Pulling from master-thesis repository\n",
      "pull_from_thesis: Done\n",
      "push_to_thesis: Pushing to master-thesis repository\n",
      "push_to_thesis: Done\n"
     ]
    },
    {
     "data": {
      "image/png": "[encoded data removed]",
      "text/plain": [
       "<Figure size 432x288 with 1 Axes>"
      ]
     },
     "metadata": {
      "needs_background": "light"
     },
     "output_type": "display_data"
    }
   ],
   "source": [
    "import numpy as np\n",
    "import matplotlib.pyplot as plt\n",
    "import seaborn as sns\n",
    "me=5.48579909070e-4 #u\n",
    "mn=1.00866491588    #u\n",
    "mp=1.007276466621   #u\n",
    "muc2=931.49410242 #MeV\n",
    "\n",
    "nuclides={'H2': {'Z': 1, 'A': 2, 'm': 2.01410177812},\n",
    "        'H3': {'Z': 1, 'A': 3, 'm': 3.0160492779},\n",
    "        'He3': {'Z': 2, 'A': 3, 'm': 3.0160293201},\n",
    "        'He4': {'Z': 2, 'A': 4, 'm': 4.002603254},\n",
    "        'Li6': {'Z': 3, 'A': 6, 'm': 6.0151228874},\n",
    "        'O16': {'Z': 8, 'A': 16, 'm': 15.99491461957},\n",
    "        'S34': {'Z': 16, 'A': 34, 'm': 33.96786701},\n",
    "        'Fe56': {'Z': 26, 'A': 56, 'm': 55.9349375},\n",
    "        'Ni62': {'Z': 28, 'A': 62, 'm': 61.92834537},\n",
    "        'Kr84': {'Z': 36, 'A': 84, 'm': 83.9114977282},\n",
    "        'Sn119': {'Z': 50, 'A': 119, 'm': 118.90331117},\n",
    "        'Ti205': {'Z': 81, 'A': 205, 'm': 204.9744278},\n",
    "        'U238': {'Z': 92, 'A': 238, 'm': 238.0507884}}\n",
    "\n",
    "def BAZ(A,Z,m):\n",
    "    \"\"\"Function to calculate the binding energy per nucleon\n",
    "    \n",
    "    Parameters\n",
    "    ----------\n",
    "    A : int\n",
    "        Mass number of nuclide\n",
    "    Z : int\n",
    "        Proton number of nuclide\n",
    "    m : float\n",
    "        Mass of the nuclide\n",
    "    \"\"\"\n",
    "    eps = (Z*mp + (A - Z)*mn - (m - Z*me)) * muc2\n",
    "    return eps/A\n",
    "\n",
    "def BAZ_BW(A,Z):\n",
    "    \"\"\"Function to calculate the binding energy per nucleon\n",
    "    with the semi-empirical formula\n",
    "    \n",
    "    Parameters\n",
    "    ----------\n",
    "    A : int\n",
    "        Mass number of nuclide\n",
    "    Z : int\n",
    "        Proton number of nuclide\n",
    "    \"\"\"\n",
    "    N = A - Z\n",
    "    even_even = (Z % 2 == 0) and (N % 2 == 0)\n",
    "    odd_odd = (Z % 2 == 1) and (N % 2 == 1)\n",
    "    delta = 0\n",
    "    if even_even: delta = 1\n",
    "    elif odd_odd: delta = -1\n",
    "    \n",
    "    eps = 15.75*A-94.8*(A/2 - Z)**2/A-17.8*A**(2/3)-0.71*Z**2*A**(-1/3)+34*delta*A**(-3/4)\n",
    "    return eps/A\n",
    "\n",
    "#your code to apply these functions and to plot the results comes here.\n",
    "eps_from_nucleus_mass = {k:{\"eps\": BAZ(v[\"A\"], v[\"Z\"], v[\"m\"]), \"A\": v[\"A\"], \"Z\": v[\"Z\"]} for (k,v) in nuclides.items()}\n",
    "eps_from_semf = {k:{\"eps\": BAZ_BW(v[\"A\"], v[\"Z\"]), \"A\": v[\"A\"], \"Z\": v[\"Z\"]} for (k,v) in nuclides.items()}\n",
    "\n",
    "x_from_nucleus_mass = [v[\"Z\"] for (k,v) in eps_from_nucleus_mass.items()]\n",
    "y_from_nucleus_mass = [v[\"eps\"] for (k,v) in eps_from_nucleus_mass.items()]\n",
    "x_from_semf = [v[\"Z\"] for (k,v) in eps_from_semf.items()]\n",
    "y_from_semf = [v[\"eps\"] for (k,v) in eps_from_semf.items()]\n",
    "\n",
    "# Find the nucleide with largest binding energy per nucleon\n",
    "max_idx = np.argmax(y_from_nucleus_mass)\n",
    "max_val = list(nuclides)[max_idx]\n",
    "max_dict_val = eps_from_nucleus_mass[max_val]\n",
    "print(max_idx)\n",
    "print(max_dict_val)\n",
    "\n",
    "plt.figure()\n",
    "plt.plot(x_from_semf, y_from_semf, \".-\", label=\"SEMF\")\n",
    "plt.plot(x_from_semf[max_idx], y_from_semf[max_idx], \"go\", label=\"Ni-62\")\n",
    "# plt.plot(x_from_nucleus_mass, y_from_nucleus_mass, \"ro\", label=\"From nucleus mass\")\n",
    "plt.legend()\n",
    "plt.ylim(0)\n",
    "plt.grid()\n",
    "plt.xlabel(\"Z\")\n",
    "plt.ylabel(r\"$\\epsilon$ [MeV]\")\n",
    "\n",
    "image_to_thesis.save(plt, image_to_thesis.ThesisSection.THEORY, \"binding_energy_vs_Z.pdf\")\n",
    "\n",
    "plt.show()\n",
    "\n",
    "# # plt.annotate(f\"{list(nuclides)[max_idx]}\", (max_dict_val[\"Z\"], max_dict_val[\"eps\"]-1))"
   ]
  },
  {
   "cell_type": "code",
   "execution_count": 28,
   "metadata": {},
   "outputs": [
    {
     "name": "stdout",
     "output_type": "stream",
     "text": [
      "\\nuclei{H}{2}, \\nuclei{H}{3}, \\nuclei{He}{3}, \\nuclei{He}{4}, \\nuclei{Li}{6}, \\nuclei{O}{16}, \\nuclei{S}{34}, \\nuclei{Fe}{56}, \\nuclei{Ni}{62}, \\nuclei{Kr}{84}, \\nuclei{Sn}{119}, \\nuclei{Ti}{205}, \\nuclei{U}{238}, "
     ]
    }
   ],
   "source": [
    "for nuclide in nuclides:\n",
    "    # Get the letters of the nuclide\n",
    "    letters = \"\".join([letter for letter in nuclide if letter.isalpha()])\n",
    "    numbers = \"\".join([letter for letter in nuclide if not letter.isalpha()])\n",
    "    print(f\"\\\\nuclei{{{letters}}}{{{numbers}}}\", end=\", \")"
   ]
  },
  {
   "cell_type": "code",
   "execution_count": null,
   "metadata": {},
   "outputs": [],
   "source": []
  }
 ],
 "metadata": {
  "kernelspec": {
   "display_name": "base",
   "language": "python",
   "name": "python3"
  },
  "language_info": {
   "codemirror_mode": {
    "name": "ipython",
    "version": 3
   },
   "file_extension": ".py",
   "mimetype": "text/x-python",
   "name": "python",
   "nbconvert_exporter": "python",
   "pygments_lexer": "ipython3",
   "version": "3.9.7"
  },
  "orig_nbformat": 4,
  "vscode": {
   "interpreter": {
    "hash": "63f76679f2d7a87017a770968b0c84eaee4b7e5784b5d2dcda1f30bf18e595f3"
   }
  }
 },
 "nbformat": 4,
 "nbformat_minor": 2
}
